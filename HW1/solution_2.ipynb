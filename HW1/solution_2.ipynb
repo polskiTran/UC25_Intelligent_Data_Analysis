{
 "cells": [
  {
   "cell_type": "code",
   "execution_count": 1,
   "id": "f730f285",
   "metadata": {},
   "outputs": [],
   "source": [
    "import pandas as pd\n",
    "import numpy as np\n"
   ]
  },
  {
   "cell_type": "code",
   "execution_count": null,
   "id": "11859af4",
   "metadata": {},
   "outputs": [],
   "source": [
    "# t = 30\n",
    "doc1 = [18, 20, 6, 30, 1]\n",
    "doc2 = [28, 29, 7, 1, 2 ]\n",
    "doc3 = [8, 18, 15, 48, 52]\n",
    "doc4 = [12, 20, 7, 0, 20]\n",
    "doc5 = [6, 8, 9, 16, 19]"
   ]
  },
  {
   "cell_type": "code",
   "execution_count": 4,
   "id": "721c4373",
   "metadata": {},
   "outputs": [
    {
     "data": {
      "application/vnd.microsoft.datawrangler.viewer.v0+json": {
       "columns": [
        {
         "name": "index",
         "rawType": "object",
         "type": "string"
        },
        {
         "name": "Word1",
         "rawType": "int64",
         "type": "integer"
        },
        {
         "name": "Word2",
         "rawType": "int64",
         "type": "integer"
        },
        {
         "name": "Word3",
         "rawType": "int64",
         "type": "integer"
        },
        {
         "name": "Word4",
         "rawType": "int64",
         "type": "integer"
        },
        {
         "name": "Word5",
         "rawType": "int64",
         "type": "integer"
        }
       ],
       "ref": "32beaf32-607b-481a-b0d4-38acb7f07c22",
       "rows": [
        [
         "Doc1",
         "18",
         "20",
         "6",
         "30",
         "1"
        ],
        [
         "Doc2",
         "28",
         "29",
         "7",
         "1",
         "2"
        ],
        [
         "Doc3",
         "8",
         "18",
         "15",
         "48",
         "52"
        ],
        [
         "Doc4",
         "12",
         "20",
         "7",
         "0",
         "20"
        ],
        [
         "Doc5",
         "6",
         "8",
         "9",
         "16",
         "19"
        ]
       ],
       "shape": {
        "columns": 5,
        "rows": 5
       }
      },
      "text/html": [
       "<div>\n",
       "<style scoped>\n",
       "    .dataframe tbody tr th:only-of-type {\n",
       "        vertical-align: middle;\n",
       "    }\n",
       "\n",
       "    .dataframe tbody tr th {\n",
       "        vertical-align: top;\n",
       "    }\n",
       "\n",
       "    .dataframe thead th {\n",
       "        text-align: right;\n",
       "    }\n",
       "</style>\n",
       "<table border=\"1\" class=\"dataframe\">\n",
       "  <thead>\n",
       "    <tr style=\"text-align: right;\">\n",
       "      <th></th>\n",
       "      <th>Word1</th>\n",
       "      <th>Word2</th>\n",
       "      <th>Word3</th>\n",
       "      <th>Word4</th>\n",
       "      <th>Word5</th>\n",
       "    </tr>\n",
       "  </thead>\n",
       "  <tbody>\n",
       "    <tr>\n",
       "      <th>Doc1</th>\n",
       "      <td>18</td>\n",
       "      <td>20</td>\n",
       "      <td>6</td>\n",
       "      <td>30</td>\n",
       "      <td>1</td>\n",
       "    </tr>\n",
       "    <tr>\n",
       "      <th>Doc2</th>\n",
       "      <td>28</td>\n",
       "      <td>29</td>\n",
       "      <td>7</td>\n",
       "      <td>1</td>\n",
       "      <td>2</td>\n",
       "    </tr>\n",
       "    <tr>\n",
       "      <th>Doc3</th>\n",
       "      <td>8</td>\n",
       "      <td>18</td>\n",
       "      <td>15</td>\n",
       "      <td>48</td>\n",
       "      <td>52</td>\n",
       "    </tr>\n",
       "    <tr>\n",
       "      <th>Doc4</th>\n",
       "      <td>12</td>\n",
       "      <td>20</td>\n",
       "      <td>7</td>\n",
       "      <td>0</td>\n",
       "      <td>20</td>\n",
       "    </tr>\n",
       "    <tr>\n",
       "      <th>Doc5</th>\n",
       "      <td>6</td>\n",
       "      <td>8</td>\n",
       "      <td>9</td>\n",
       "      <td>16</td>\n",
       "      <td>19</td>\n",
       "    </tr>\n",
       "  </tbody>\n",
       "</table>\n",
       "</div>"
      ],
      "text/plain": [
       "      Word1  Word2  Word3  Word4  Word5\n",
       "Doc1     18     20      6     30      1\n",
       "Doc2     28     29      7      1      2\n",
       "Doc3      8     18     15     48     52\n",
       "Doc4     12     20      7      0     20\n",
       "Doc5      6      8      9     16     19"
      ]
     },
     "execution_count": 4,
     "metadata": {},
     "output_type": "execute_result"
    }
   ],
   "source": [
    "# word frequency data frame\n",
    "df = pd.DataFrame([doc1, doc2, doc3, doc4, doc5], \n",
    "                  index=['Doc1', 'Doc2', 'Doc3', 'Doc4', 'Doc5'], \n",
    "                  columns=['Word1', 'Word2', 'Word3', 'Word4', 'Word5'])\n",
    "df"
   ]
  },
  {
   "cell_type": "code",
   "execution_count": 5,
   "id": "2d29caf5",
   "metadata": {},
   "outputs": [
    {
     "data": {
      "application/vnd.microsoft.datawrangler.viewer.v0+json": {
       "columns": [
        {
         "name": "index",
         "rawType": "object",
         "type": "string"
        },
        {
         "name": "Doc1",
         "rawType": "float64",
         "type": "float"
        },
        {
         "name": "Doc2",
         "rawType": "float64",
         "type": "float"
        },
        {
         "name": "Doc3",
         "rawType": "float64",
         "type": "float"
        },
        {
         "name": "Doc4",
         "rawType": "float64",
         "type": "float"
        },
        {
         "name": "Doc5",
         "rawType": "float64",
         "type": "float"
        }
       ],
       "ref": "d3715c53-00da-4fe4-8c59-21612ac46e57",
       "rows": [
        [
         "Doc1",
         "0.9999999999999999",
         "0.6934232435172571",
         "0.6826886698757442",
         "0.52792259896613",
         "0.7131106052084689"
        ],
        [
         "Doc2",
         "0.6934232435172571",
         "0.9999999999999999",
         "0.3264891793776183",
         "0.7783341564049767",
         "0.446646308934956"
        ],
        [
         "Doc3",
         "0.6826886698757442",
         "0.3264891793776183",
         "1.0",
         "0.677656978471026",
         "0.9835150989928515"
        ],
        [
         "Doc4",
         "0.52792259896613",
         "0.7783341564049767",
         "0.677656978471026",
         "0.9999999999999999",
         "0.7582766852118642"
        ],
        [
         "Doc5",
         "0.7131106052084689",
         "0.446646308934956",
         "0.9835150989928515",
         "0.7582766852118642",
         "0.9999999999999999"
        ]
       ],
       "shape": {
        "columns": 5,
        "rows": 5
       }
      },
      "text/html": [
       "<div>\n",
       "<style scoped>\n",
       "    .dataframe tbody tr th:only-of-type {\n",
       "        vertical-align: middle;\n",
       "    }\n",
       "\n",
       "    .dataframe tbody tr th {\n",
       "        vertical-align: top;\n",
       "    }\n",
       "\n",
       "    .dataframe thead th {\n",
       "        text-align: right;\n",
       "    }\n",
       "</style>\n",
       "<table border=\"1\" class=\"dataframe\">\n",
       "  <thead>\n",
       "    <tr style=\"text-align: right;\">\n",
       "      <th></th>\n",
       "      <th>Doc1</th>\n",
       "      <th>Doc2</th>\n",
       "      <th>Doc3</th>\n",
       "      <th>Doc4</th>\n",
       "      <th>Doc5</th>\n",
       "    </tr>\n",
       "  </thead>\n",
       "  <tbody>\n",
       "    <tr>\n",
       "      <th>Doc1</th>\n",
       "      <td>1.000000</td>\n",
       "      <td>0.693423</td>\n",
       "      <td>0.682689</td>\n",
       "      <td>0.527923</td>\n",
       "      <td>0.713111</td>\n",
       "    </tr>\n",
       "    <tr>\n",
       "      <th>Doc2</th>\n",
       "      <td>0.693423</td>\n",
       "      <td>1.000000</td>\n",
       "      <td>0.326489</td>\n",
       "      <td>0.778334</td>\n",
       "      <td>0.446646</td>\n",
       "    </tr>\n",
       "    <tr>\n",
       "      <th>Doc3</th>\n",
       "      <td>0.682689</td>\n",
       "      <td>0.326489</td>\n",
       "      <td>1.000000</td>\n",
       "      <td>0.677657</td>\n",
       "      <td>0.983515</td>\n",
       "    </tr>\n",
       "    <tr>\n",
       "      <th>Doc4</th>\n",
       "      <td>0.527923</td>\n",
       "      <td>0.778334</td>\n",
       "      <td>0.677657</td>\n",
       "      <td>1.000000</td>\n",
       "      <td>0.758277</td>\n",
       "    </tr>\n",
       "    <tr>\n",
       "      <th>Doc5</th>\n",
       "      <td>0.713111</td>\n",
       "      <td>0.446646</td>\n",
       "      <td>0.983515</td>\n",
       "      <td>0.758277</td>\n",
       "      <td>1.000000</td>\n",
       "    </tr>\n",
       "  </tbody>\n",
       "</table>\n",
       "</div>"
      ],
      "text/plain": [
       "          Doc1      Doc2      Doc3      Doc4      Doc5\n",
       "Doc1  1.000000  0.693423  0.682689  0.527923  0.713111\n",
       "Doc2  0.693423  1.000000  0.326489  0.778334  0.446646\n",
       "Doc3  0.682689  0.326489  1.000000  0.677657  0.983515\n",
       "Doc4  0.527923  0.778334  0.677657  1.000000  0.758277\n",
       "Doc5  0.713111  0.446646  0.983515  0.758277  1.000000"
      ]
     },
     "execution_count": 5,
     "metadata": {},
     "output_type": "execute_result"
    }
   ],
   "source": [
    "# cosine similarity matrix\n",
    "from sklearn.metrics.pairwise import cosine_similarity\n",
    "cosine_sim_matrix = cosine_similarity(df)\n",
    "cosine_sim_matrix_df = pd.DataFrame(cosine_sim_matrix, index=df.index, columns=df.index)\n",
    "cosine_sim_matrix_df"
   ]
  },
  {
   "cell_type": "code",
   "execution_count": 7,
   "id": "bfae6333",
   "metadata": {},
   "outputs": [
    {
     "data": {
      "text/plain": [
       "[0.9835150989928515,\n",
       " 0.7783341564049767,\n",
       " 0.7582766852118642,\n",
       " 0.7131106052084689,\n",
       " 0.6934232435172571,\n",
       " 0.6826886698757442,\n",
       " 0.677656978471026,\n",
       " 0.52792259896613,\n",
       " 0.446646308934956,\n",
       " 0.3264891793776183]"
      ]
     },
     "execution_count": 7,
     "metadata": {},
     "output_type": "execute_result"
    }
   ],
   "source": [
    "# to list of cosine similarities excluding self-similarity pairs\n",
    "np.fill_diagonal(cosine_sim_matrix, 0)  # set diagonal to 0 to exclude self-similarity\n",
    "cosine_similarities = cosine_sim_matrix[np.triu_indices_from(cosine_sim_matrix, k=1)]\n",
    "cosine_similarities_list = cosine_similarities.flatten().tolist()\n",
    "cosine_similarities_list.sort(reverse=True)\n",
    "cosine_similarities_list"
   ]
  },
  {
   "cell_type": "code",
   "execution_count": 18,
   "id": "3f8052a1",
   "metadata": {},
   "outputs": [
    {
     "name": "stdout",
     "output_type": "stream",
     "text": [
      "Documents: Doc3 and Doc5 have a cosine similarity of 0.9835\n",
      "Documents: Doc2 and Doc4 have a cosine similarity of 0.7783\n"
     ]
    }
   ],
   "source": [
    "# top 2 cosine similarities scores\n",
    "top_2_cosine_similarities = cosine_similarities_list[:2]\n",
    "for score in top_2_cosine_similarities:\n",
    "    # find the document pairs corresponding to the score \n",
    "    doc_pairs = np.argwhere(cosine_sim_matrix == score)\n",
    "    doc1, doc2 = df.index[doc_pairs[0][0]], df.index[doc_pairs[0][1]]\n",
    "    print(f\"Documents: {doc1} and {doc2} have a cosine similarity of {score:2.4f}\")"
   ]
  },
  {
   "cell_type": "code",
   "execution_count": 20,
   "id": "76e3a025",
   "metadata": {},
   "outputs": [
    {
     "name": "stdout",
     "output_type": "stream",
     "text": [
      "Documents: Doc2 and Doc3 have a cosine similarity of 0.3265\n"
     ]
    }
   ],
   "source": [
    "# the lowest cosine similarities scores\n",
    "lowest_cosine_similarities = cosine_similarities_list[-1:]\n",
    "for score in lowest_cosine_similarities:\n",
    "    # find the document pairs corresponding to the score\n",
    "    doc_pairs = np.argwhere(cosine_sim_matrix == score)\n",
    "    doc1, doc2 = df.index[doc_pairs[0][0]], df.index[doc_pairs[0][1]]\n",
    "    print(f\"Documents: {doc1} and {doc2} have a cosine similarity of {score:2.4f}\")"
   ]
  },
  {
   "cell_type": "code",
   "execution_count": null,
   "id": "4c63a7b9",
   "metadata": {},
   "outputs": [],
   "source": [
    "    "
   ]
  }
 ],
 "metadata": {
  "kernelspec": {
   "display_name": "hw1",
   "language": "python",
   "name": "python3"
  },
  "language_info": {
   "codemirror_mode": {
    "name": "ipython",
    "version": 3
   },
   "file_extension": ".py",
   "mimetype": "text/x-python",
   "name": "python",
   "nbconvert_exporter": "python",
   "pygments_lexer": "ipython3",
   "version": "3.13.7"
  }
 },
 "nbformat": 4,
 "nbformat_minor": 5
}
