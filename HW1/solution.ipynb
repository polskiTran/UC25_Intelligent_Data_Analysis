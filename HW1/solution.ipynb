{
 "cells": [
  {
   "cell_type": "markdown",
   "id": "f40f5232",
   "metadata": {},
   "source": [
    "# Data cleanup"
   ]
  },
  {
   "cell_type": "code",
   "execution_count": 1,
   "id": "b16e095a",
   "metadata": {},
   "outputs": [],
   "source": [
    "import pandas as pd\n",
    "import numpy as np\n"
   ]
  },
  {
   "cell_type": "code",
   "execution_count": 2,
   "id": "e056bcdc",
   "metadata": {},
   "outputs": [
    {
     "data": {
      "application/vnd.microsoft.datawrangler.viewer.v0+json": {
       "columns": [
        {
         "name": "index",
         "rawType": "int64",
         "type": "integer"
        },
        {
         "name": "Student ID",
         "rawType": "object",
         "type": "unknown"
        },
        {
         "name": "Test1",
         "rawType": "object",
         "type": "unknown"
        },
        {
         "name": "Homeworks",
         "rawType": "object",
         "type": "unknown"
        },
        {
         "name": "Quizzes",
         "rawType": "object",
         "type": "unknown"
        },
        {
         "name": "Presentation",
         "rawType": "float64",
         "type": "float"
        },
        {
         "name": "Fianl-Exam",
         "rawType": "object",
         "type": "unknown"
        }
       ],
       "ref": "69d64f37-463f-4444-b294-6d6783e20be4",
       "rows": [
        [
         "0",
         null,
         "Max:50",
         "Max:400",
         "Max:140",
         null,
         "Max:100"
        ],
        [
         "1",
         null,
         null,
         null,
         null,
         null,
         null
        ],
        [
         "2",
         "S1",
         "41",
         "244",
         "136",
         "50.0",
         "90"
        ],
        [
         "3",
         "S2",
         "50",
         "400",
         "140",
         "50.0",
         "100"
        ],
        [
         "4",
         "S3",
         "43",
         "327",
         "88",
         "50.0",
         "79"
        ]
       ],
       "shape": {
        "columns": 6,
        "rows": 5
       }
      },
      "text/html": [
       "<div>\n",
       "<style scoped>\n",
       "    .dataframe tbody tr th:only-of-type {\n",
       "        vertical-align: middle;\n",
       "    }\n",
       "\n",
       "    .dataframe tbody tr th {\n",
       "        vertical-align: top;\n",
       "    }\n",
       "\n",
       "    .dataframe thead th {\n",
       "        text-align: right;\n",
       "    }\n",
       "</style>\n",
       "<table border=\"1\" class=\"dataframe\">\n",
       "  <thead>\n",
       "    <tr style=\"text-align: right;\">\n",
       "      <th></th>\n",
       "      <th>Student ID</th>\n",
       "      <th>Test1</th>\n",
       "      <th>Homeworks</th>\n",
       "      <th>Quizzes</th>\n",
       "      <th>Presentation</th>\n",
       "      <th>Fianl-Exam</th>\n",
       "    </tr>\n",
       "  </thead>\n",
       "  <tbody>\n",
       "    <tr>\n",
       "      <th>0</th>\n",
       "      <td>NaN</td>\n",
       "      <td>Max:50</td>\n",
       "      <td>Max:400</td>\n",
       "      <td>Max:140</td>\n",
       "      <td>NaN</td>\n",
       "      <td>Max:100</td>\n",
       "    </tr>\n",
       "    <tr>\n",
       "      <th>1</th>\n",
       "      <td>NaN</td>\n",
       "      <td>NaN</td>\n",
       "      <td>NaN</td>\n",
       "      <td>NaN</td>\n",
       "      <td>NaN</td>\n",
       "      <td>NaN</td>\n",
       "    </tr>\n",
       "    <tr>\n",
       "      <th>2</th>\n",
       "      <td>S1</td>\n",
       "      <td>41</td>\n",
       "      <td>244</td>\n",
       "      <td>136</td>\n",
       "      <td>50.0</td>\n",
       "      <td>90</td>\n",
       "    </tr>\n",
       "    <tr>\n",
       "      <th>3</th>\n",
       "      <td>S2</td>\n",
       "      <td>50</td>\n",
       "      <td>400</td>\n",
       "      <td>140</td>\n",
       "      <td>50.0</td>\n",
       "      <td>100</td>\n",
       "    </tr>\n",
       "    <tr>\n",
       "      <th>4</th>\n",
       "      <td>S3</td>\n",
       "      <td>43</td>\n",
       "      <td>327</td>\n",
       "      <td>88</td>\n",
       "      <td>50.0</td>\n",
       "      <td>79</td>\n",
       "    </tr>\n",
       "  </tbody>\n",
       "</table>\n",
       "</div>"
      ],
      "text/plain": [
       "  Student ID   Test1 Homeworks  Quizzes  Presentation Fianl-Exam\n",
       "0        NaN  Max:50   Max:400  Max:140           NaN    Max:100\n",
       "1        NaN     NaN       NaN      NaN           NaN        NaN\n",
       "2         S1      41       244      136          50.0         90\n",
       "3         S2      50       400      140          50.0        100\n",
       "4         S3      43       327       88          50.0         79"
      ]
     },
     "execution_count": 2,
     "metadata": {},
     "output_type": "execute_result"
    }
   ],
   "source": [
    "df = pd.read_csv('data/HW1-Data.csv')\n",
    "df.head()"
   ]
  },
  {
   "cell_type": "code",
   "execution_count": 3,
   "id": "c0f8ff81",
   "metadata": {},
   "outputs": [
    {
     "data": {
      "application/vnd.microsoft.datawrangler.viewer.v0+json": {
       "columns": [
        {
         "name": "index",
         "rawType": "int64",
         "type": "integer"
        },
        {
         "name": "Student ID",
         "rawType": "object",
         "type": "string"
        },
        {
         "name": "Test1",
         "rawType": "object",
         "type": "string"
        },
        {
         "name": "Homeworks",
         "rawType": "object",
         "type": "string"
        },
        {
         "name": "Quizzes",
         "rawType": "object",
         "type": "string"
        },
        {
         "name": "Presentation",
         "rawType": "float64",
         "type": "float"
        },
        {
         "name": "Fianl-Exam",
         "rawType": "object",
         "type": "string"
        }
       ],
       "ref": "12aa223a-6585-4f45-8963-ebff0421b2b9",
       "rows": [
        [
         "0",
         "S1",
         "41",
         "244",
         "136",
         "50.0",
         "90"
        ],
        [
         "1",
         "S2",
         "50",
         "400",
         "140",
         "50.0",
         "100"
        ],
        [
         "2",
         "S3",
         "43",
         "327",
         "88",
         "50.0",
         "79"
        ],
        [
         "3",
         "S4",
         "43",
         "336",
         "123",
         "50.0",
         "35"
        ],
        [
         "4",
         "S5",
         "41",
         "232",
         "100",
         "50.0",
         "79"
        ]
       ],
       "shape": {
        "columns": 6,
        "rows": 5
       }
      },
      "text/html": [
       "<div>\n",
       "<style scoped>\n",
       "    .dataframe tbody tr th:only-of-type {\n",
       "        vertical-align: middle;\n",
       "    }\n",
       "\n",
       "    .dataframe tbody tr th {\n",
       "        vertical-align: top;\n",
       "    }\n",
       "\n",
       "    .dataframe thead th {\n",
       "        text-align: right;\n",
       "    }\n",
       "</style>\n",
       "<table border=\"1\" class=\"dataframe\">\n",
       "  <thead>\n",
       "    <tr style=\"text-align: right;\">\n",
       "      <th></th>\n",
       "      <th>Student ID</th>\n",
       "      <th>Test1</th>\n",
       "      <th>Homeworks</th>\n",
       "      <th>Quizzes</th>\n",
       "      <th>Presentation</th>\n",
       "      <th>Fianl-Exam</th>\n",
       "    </tr>\n",
       "  </thead>\n",
       "  <tbody>\n",
       "    <tr>\n",
       "      <th>0</th>\n",
       "      <td>S1</td>\n",
       "      <td>41</td>\n",
       "      <td>244</td>\n",
       "      <td>136</td>\n",
       "      <td>50.0</td>\n",
       "      <td>90</td>\n",
       "    </tr>\n",
       "    <tr>\n",
       "      <th>1</th>\n",
       "      <td>S2</td>\n",
       "      <td>50</td>\n",
       "      <td>400</td>\n",
       "      <td>140</td>\n",
       "      <td>50.0</td>\n",
       "      <td>100</td>\n",
       "    </tr>\n",
       "    <tr>\n",
       "      <th>2</th>\n",
       "      <td>S3</td>\n",
       "      <td>43</td>\n",
       "      <td>327</td>\n",
       "      <td>88</td>\n",
       "      <td>50.0</td>\n",
       "      <td>79</td>\n",
       "    </tr>\n",
       "    <tr>\n",
       "      <th>3</th>\n",
       "      <td>S4</td>\n",
       "      <td>43</td>\n",
       "      <td>336</td>\n",
       "      <td>123</td>\n",
       "      <td>50.0</td>\n",
       "      <td>35</td>\n",
       "    </tr>\n",
       "    <tr>\n",
       "      <th>4</th>\n",
       "      <td>S5</td>\n",
       "      <td>41</td>\n",
       "      <td>232</td>\n",
       "      <td>100</td>\n",
       "      <td>50.0</td>\n",
       "      <td>79</td>\n",
       "    </tr>\n",
       "  </tbody>\n",
       "</table>\n",
       "</div>"
      ],
      "text/plain": [
       "  Student ID Test1 Homeworks Quizzes  Presentation Fianl-Exam\n",
       "0         S1    41       244     136          50.0         90\n",
       "1         S2    50       400     140          50.0        100\n",
       "2         S3    43       327      88          50.0         79\n",
       "3         S4    43       336     123          50.0         35\n",
       "4         S5    41       232     100          50.0         79"
      ]
     },
     "execution_count": 3,
     "metadata": {},
     "output_type": "execute_result"
    }
   ],
   "source": [
    "# drop first 2 rows and start from index 0\n",
    "df = df.drop(index=[0, 1])\n",
    "df = df.reset_index(drop=True)\n",
    "df.head()"
   ]
  },
  {
   "cell_type": "code",
   "execution_count": 4,
   "id": "9f5d4677",
   "metadata": {},
   "outputs": [
    {
     "data": {
      "application/vnd.microsoft.datawrangler.viewer.v0+json": {
       "columns": [
        {
         "name": "index",
         "rawType": "int64",
         "type": "integer"
        },
        {
         "name": "Test1",
         "rawType": "object",
         "type": "string"
        },
        {
         "name": "Homeworks",
         "rawType": "object",
         "type": "string"
        },
        {
         "name": "Quizzes",
         "rawType": "object",
         "type": "string"
        },
        {
         "name": "Presentation",
         "rawType": "float64",
         "type": "float"
        },
        {
         "name": "Fianl-Exam",
         "rawType": "object",
         "type": "string"
        }
       ],
       "ref": "d5a146b9-5d47-4913-b7b1-990b8cf61479",
       "rows": [
        [
         "0",
         "41",
         "244",
         "136",
         "50.0",
         "90"
        ],
        [
         "1",
         "50",
         "400",
         "140",
         "50.0",
         "100"
        ],
        [
         "2",
         "43",
         "327",
         "88",
         "50.0",
         "79"
        ],
        [
         "3",
         "43",
         "336",
         "123",
         "50.0",
         "35"
        ],
        [
         "4",
         "41",
         "232",
         "100",
         "50.0",
         "79"
        ]
       ],
       "shape": {
        "columns": 5,
        "rows": 5
       }
      },
      "text/html": [
       "<div>\n",
       "<style scoped>\n",
       "    .dataframe tbody tr th:only-of-type {\n",
       "        vertical-align: middle;\n",
       "    }\n",
       "\n",
       "    .dataframe tbody tr th {\n",
       "        vertical-align: top;\n",
       "    }\n",
       "\n",
       "    .dataframe thead th {\n",
       "        text-align: right;\n",
       "    }\n",
       "</style>\n",
       "<table border=\"1\" class=\"dataframe\">\n",
       "  <thead>\n",
       "    <tr style=\"text-align: right;\">\n",
       "      <th></th>\n",
       "      <th>Test1</th>\n",
       "      <th>Homeworks</th>\n",
       "      <th>Quizzes</th>\n",
       "      <th>Presentation</th>\n",
       "      <th>Fianl-Exam</th>\n",
       "    </tr>\n",
       "  </thead>\n",
       "  <tbody>\n",
       "    <tr>\n",
       "      <th>0</th>\n",
       "      <td>41</td>\n",
       "      <td>244</td>\n",
       "      <td>136</td>\n",
       "      <td>50.0</td>\n",
       "      <td>90</td>\n",
       "    </tr>\n",
       "    <tr>\n",
       "      <th>1</th>\n",
       "      <td>50</td>\n",
       "      <td>400</td>\n",
       "      <td>140</td>\n",
       "      <td>50.0</td>\n",
       "      <td>100</td>\n",
       "    </tr>\n",
       "    <tr>\n",
       "      <th>2</th>\n",
       "      <td>43</td>\n",
       "      <td>327</td>\n",
       "      <td>88</td>\n",
       "      <td>50.0</td>\n",
       "      <td>79</td>\n",
       "    </tr>\n",
       "    <tr>\n",
       "      <th>3</th>\n",
       "      <td>43</td>\n",
       "      <td>336</td>\n",
       "      <td>123</td>\n",
       "      <td>50.0</td>\n",
       "      <td>35</td>\n",
       "    </tr>\n",
       "    <tr>\n",
       "      <th>4</th>\n",
       "      <td>41</td>\n",
       "      <td>232</td>\n",
       "      <td>100</td>\n",
       "      <td>50.0</td>\n",
       "      <td>79</td>\n",
       "    </tr>\n",
       "  </tbody>\n",
       "</table>\n",
       "</div>"
      ],
      "text/plain": [
       "  Test1 Homeworks Quizzes  Presentation Fianl-Exam\n",
       "0    41       244     136          50.0         90\n",
       "1    50       400     140          50.0        100\n",
       "2    43       327      88          50.0         79\n",
       "3    43       336     123          50.0         35\n",
       "4    41       232     100          50.0         79"
      ]
     },
     "execution_count": 4,
     "metadata": {},
     "output_type": "execute_result"
    }
   ],
   "source": [
    "# drop Student ID since studentID = index + 1\n",
    "df = df.drop(columns=['Student ID'])\n",
    "df.head()"
   ]
  },
  {
   "cell_type": "code",
   "execution_count": 5,
   "id": "eff17845",
   "metadata": {},
   "outputs": [],
   "source": [
    "# convert all columns to float\n",
    "for col in df.columns:\n",
    "    df[col] = df[col].astype(float)"
   ]
  },
  {
   "cell_type": "markdown",
   "id": "b73cc27a",
   "metadata": {},
   "source": [
    "# Q1"
   ]
  },
  {
   "cell_type": "markdown",
   "id": "7a91ef7e",
   "metadata": {},
   "source": [
    "## 1b. Get student reference ID"
   ]
  },
  {
   "cell_type": "code",
   "execution_count": 6,
   "id": "7f0cf1de",
   "metadata": {},
   "outputs": [
    {
     "name": "stdout",
     "output_type": "stream",
     "text": [
      "Student Reference ID: 28\n"
     ]
    }
   ],
   "source": [
    "M_NUMBER_LAST_THREE_DIGITS = 830\n",
    "STUDENT_REF_ID = (M_NUMBER_LAST_THREE_DIGITS % 26 ) + 4\n",
    "print(f\"Student Reference ID: {STUDENT_REF_ID}\")"
   ]
  },
  {
   "cell_type": "markdown",
   "id": "8a2ff312",
   "metadata": {},
   "source": [
    "## 1c. Standardize"
   ]
  },
  {
   "cell_type": "code",
   "execution_count": 43,
   "id": "9fc3744f",
   "metadata": {},
   "outputs": [
    {
     "data": {
      "application/vnd.microsoft.datawrangler.viewer.v0+json": {
       "columns": [
        {
         "name": "index",
         "rawType": "object",
         "type": "string"
        },
        {
         "name": "Mean",
         "rawType": "float64",
         "type": "float"
        },
        {
         "name": "Standard Deviation",
         "rawType": "float64",
         "type": "float"
        }
       ],
       "ref": "9e9100c5-a7f6-4456-82cb-94f1e8f4bd4e",
       "rows": [
        [
         "Test1",
         "42.4",
         "6.360438067758628"
        ],
        [
         "Homeworks",
         "291.46666666666664",
         "81.54911079383005"
        ],
        [
         "Quizzes",
         "114.83333333333333",
         "20.938470341213684"
        ],
        [
         "Presentation",
         "48.666666666666664",
         "3.4574590364176037"
        ],
        [
         "Fianl-Exam",
         "68.16666666666667",
         "22.89117181636704"
        ]
       ],
       "shape": {
        "columns": 2,
        "rows": 5
       }
      },
      "text/html": [
       "<div>\n",
       "<style scoped>\n",
       "    .dataframe tbody tr th:only-of-type {\n",
       "        vertical-align: middle;\n",
       "    }\n",
       "\n",
       "    .dataframe tbody tr th {\n",
       "        vertical-align: top;\n",
       "    }\n",
       "\n",
       "    .dataframe thead th {\n",
       "        text-align: right;\n",
       "    }\n",
       "</style>\n",
       "<table border=\"1\" class=\"dataframe\">\n",
       "  <thead>\n",
       "    <tr style=\"text-align: right;\">\n",
       "      <th></th>\n",
       "      <th>Mean</th>\n",
       "      <th>Standard Deviation</th>\n",
       "    </tr>\n",
       "  </thead>\n",
       "  <tbody>\n",
       "    <tr>\n",
       "      <th>Test1</th>\n",
       "      <td>42.400000</td>\n",
       "      <td>6.360438</td>\n",
       "    </tr>\n",
       "    <tr>\n",
       "      <th>Homeworks</th>\n",
       "      <td>291.466667</td>\n",
       "      <td>81.549111</td>\n",
       "    </tr>\n",
       "    <tr>\n",
       "      <th>Quizzes</th>\n",
       "      <td>114.833333</td>\n",
       "      <td>20.938470</td>\n",
       "    </tr>\n",
       "    <tr>\n",
       "      <th>Presentation</th>\n",
       "      <td>48.666667</td>\n",
       "      <td>3.457459</td>\n",
       "    </tr>\n",
       "    <tr>\n",
       "      <th>Fianl-Exam</th>\n",
       "      <td>68.166667</td>\n",
       "      <td>22.891172</td>\n",
       "    </tr>\n",
       "  </tbody>\n",
       "</table>\n",
       "</div>"
      ],
      "text/plain": [
       "                    Mean  Standard Deviation\n",
       "Test1          42.400000            6.360438\n",
       "Homeworks     291.466667           81.549111\n",
       "Quizzes       114.833333           20.938470\n",
       "Presentation   48.666667            3.457459\n",
       "Fianl-Exam     68.166667           22.891172"
      ]
     },
     "execution_count": 43,
     "metadata": {},
     "output_type": "execute_result"
    }
   ],
   "source": [
    "# calculate mean and standard deviation\n",
    "means = []\n",
    "std_devs = []\n",
    "\n",
    "for col in df.columns:\n",
    "    mean = df[col].astype(float).mean()\n",
    "    std_dev = df[col].astype(float).std()\n",
    "    means.append(mean)\n",
    "    std_devs.append(std_dev)\n",
    "\n",
    "# print(\"(*) Means and standard deviation of each column:\")\n",
    "# for col, mean, std_dev in zip(df.columns, means, std_devs):\n",
    "#     print(f\"    {col}: {mean:2.2f} ± {std_dev:2.2f}\")\n",
    "\n",
    "# to dataframe\n",
    "df_stats = pd.DataFrame({\n",
    "    'Mean': means,\n",
    "    'Standard Deviation': std_devs\n",
    "}, index=df.columns)\n",
    "df_stats"
   ]
  },
  {
   "cell_type": "code",
   "execution_count": 8,
   "id": "ac2a084a",
   "metadata": {},
   "outputs": [
    {
     "data": {
      "application/vnd.microsoft.datawrangler.viewer.v0+json": {
       "columns": [
        {
         "name": "index",
         "rawType": "int64",
         "type": "integer"
        },
        {
         "name": "Test1",
         "rawType": "float64",
         "type": "float"
        },
        {
         "name": "Homeworks",
         "rawType": "float64",
         "type": "float"
        },
        {
         "name": "Quizzes",
         "rawType": "float64",
         "type": "float"
        },
        {
         "name": "Presentation",
         "rawType": "float64",
         "type": "float"
        },
        {
         "name": "Fianl-Exam",
         "rawType": "float64",
         "type": "float"
        }
       ],
       "ref": "bc0e087f-4292-4953-a192-d36f2763c4c2",
       "rows": [
        [
         "0",
         "-0.22011062525656322",
         "-0.5820623450655447",
         "1.010898423893164",
         "0.38563966175427195",
         "0.9537883647233225"
        ],
        [
         "1",
         "1.1948862513927734",
         "1.3308953620318924",
         "1.2019343465186436",
         "0.38563966175427195",
         "1.3906379974210277"
        ],
        [
         "2",
         "0.09433312510995599",
         "0.43572925550552766",
         "-1.2815326476125932",
         "0.38563966175427195",
         "0.47325376875584696"
        ],
        [
         "3",
         "0.09433312510995599",
         "0.5460922001457644",
         "0.3900316753603547",
         "0.38563966175427195",
         "-1.4488846151140553"
        ],
        [
         "4",
         "-0.22011062525656322",
         "-0.7292129379191936",
         "-0.7084248797361539",
         "0.38563966175427195",
         "0.47325376875584696"
        ]
       ],
       "shape": {
        "columns": 5,
        "rows": 5
       }
      },
      "text/html": [
       "<div>\n",
       "<style scoped>\n",
       "    .dataframe tbody tr th:only-of-type {\n",
       "        vertical-align: middle;\n",
       "    }\n",
       "\n",
       "    .dataframe tbody tr th {\n",
       "        vertical-align: top;\n",
       "    }\n",
       "\n",
       "    .dataframe thead th {\n",
       "        text-align: right;\n",
       "    }\n",
       "</style>\n",
       "<table border=\"1\" class=\"dataframe\">\n",
       "  <thead>\n",
       "    <tr style=\"text-align: right;\">\n",
       "      <th></th>\n",
       "      <th>Test1</th>\n",
       "      <th>Homeworks</th>\n",
       "      <th>Quizzes</th>\n",
       "      <th>Presentation</th>\n",
       "      <th>Fianl-Exam</th>\n",
       "    </tr>\n",
       "  </thead>\n",
       "  <tbody>\n",
       "    <tr>\n",
       "      <th>0</th>\n",
       "      <td>-0.220111</td>\n",
       "      <td>-0.582062</td>\n",
       "      <td>1.010898</td>\n",
       "      <td>0.38564</td>\n",
       "      <td>0.953788</td>\n",
       "    </tr>\n",
       "    <tr>\n",
       "      <th>1</th>\n",
       "      <td>1.194886</td>\n",
       "      <td>1.330895</td>\n",
       "      <td>1.201934</td>\n",
       "      <td>0.38564</td>\n",
       "      <td>1.390638</td>\n",
       "    </tr>\n",
       "    <tr>\n",
       "      <th>2</th>\n",
       "      <td>0.094333</td>\n",
       "      <td>0.435729</td>\n",
       "      <td>-1.281533</td>\n",
       "      <td>0.38564</td>\n",
       "      <td>0.473254</td>\n",
       "    </tr>\n",
       "    <tr>\n",
       "      <th>3</th>\n",
       "      <td>0.094333</td>\n",
       "      <td>0.546092</td>\n",
       "      <td>0.390032</td>\n",
       "      <td>0.38564</td>\n",
       "      <td>-1.448885</td>\n",
       "    </tr>\n",
       "    <tr>\n",
       "      <th>4</th>\n",
       "      <td>-0.220111</td>\n",
       "      <td>-0.729213</td>\n",
       "      <td>-0.708425</td>\n",
       "      <td>0.38564</td>\n",
       "      <td>0.473254</td>\n",
       "    </tr>\n",
       "  </tbody>\n",
       "</table>\n",
       "</div>"
      ],
      "text/plain": [
       "      Test1  Homeworks   Quizzes  Presentation  Fianl-Exam\n",
       "0 -0.220111  -0.582062  1.010898       0.38564    0.953788\n",
       "1  1.194886   1.330895  1.201934       0.38564    1.390638\n",
       "2  0.094333   0.435729 -1.281533       0.38564    0.473254\n",
       "3  0.094333   0.546092  0.390032       0.38564   -1.448885\n",
       "4 -0.220111  -0.729213 -0.708425       0.38564    0.473254"
      ]
     },
     "execution_count": 8,
     "metadata": {},
     "output_type": "execute_result"
    }
   ],
   "source": [
    "# normalize data\n",
    "df_normalized_1 = df.copy()\n",
    "for i, col in enumerate(df_normalized_1.columns):\n",
    "    df_normalized_1[col] = (df_normalized_1[col] - means[i]) / std_devs[i]\n",
    "df_normalized_1.head()"
   ]
  },
  {
   "cell_type": "code",
   "execution_count": 9,
   "id": "f392c28a",
   "metadata": {},
   "outputs": [
    {
     "data": {
      "application/vnd.microsoft.datawrangler.viewer.v0+json": {
       "columns": [
        {
         "name": "index",
         "rawType": "int64",
         "type": "integer"
        },
        {
         "name": "Test1",
         "rawType": "float64",
         "type": "float"
        },
        {
         "name": "Homeworks",
         "rawType": "float64",
         "type": "float"
        },
        {
         "name": "Quizzes",
         "rawType": "float64",
         "type": "float"
        },
        {
         "name": "Presentation",
         "rawType": "float64",
         "type": "float"
        },
        {
         "name": "Fianl-Exam",
         "rawType": "float64",
         "type": "float"
        }
       ],
       "ref": "aa8e7e9c-4f36-4288-aae2-8d13c9b0eeee",
       "rows": [
        [
         "0",
         "-0.22011062525656322",
         "-0.5820623450655447",
         "1.010898423893164",
         "0.38563966175427195",
         "0.9537883647233225"
        ],
        [
         "1",
         "1.1948862513927734",
         "1.3308953620318924",
         "1.2019343465186436",
         "0.38563966175427195",
         "1.3906379974210277"
        ],
        [
         "2",
         "0.09433312510995599",
         "0.43572925550552766",
         "-1.2815326476125932",
         "0.38563966175427195",
         "0.47325376875584696"
        ],
        [
         "3",
         "0.09433312510995599",
         "0.5460922001457644",
         "0.3900316753603547",
         "0.38563966175427195",
         "-1.4488846151140553"
        ],
        [
         "4",
         "-0.22011062525656322",
         "-0.7292129379191936",
         "-0.7084248797361539",
         "0.38563966175427195",
         "0.47325376875584696"
        ]
       ],
       "shape": {
        "columns": 5,
        "rows": 5
       }
      },
      "text/html": [
       "<div>\n",
       "<style scoped>\n",
       "    .dataframe tbody tr th:only-of-type {\n",
       "        vertical-align: middle;\n",
       "    }\n",
       "\n",
       "    .dataframe tbody tr th {\n",
       "        vertical-align: top;\n",
       "    }\n",
       "\n",
       "    .dataframe thead th {\n",
       "        text-align: right;\n",
       "    }\n",
       "</style>\n",
       "<table border=\"1\" class=\"dataframe\">\n",
       "  <thead>\n",
       "    <tr style=\"text-align: right;\">\n",
       "      <th></th>\n",
       "      <th>Test1</th>\n",
       "      <th>Homeworks</th>\n",
       "      <th>Quizzes</th>\n",
       "      <th>Presentation</th>\n",
       "      <th>Fianl-Exam</th>\n",
       "    </tr>\n",
       "  </thead>\n",
       "  <tbody>\n",
       "    <tr>\n",
       "      <th>0</th>\n",
       "      <td>-0.220111</td>\n",
       "      <td>-0.582062</td>\n",
       "      <td>1.010898</td>\n",
       "      <td>0.38564</td>\n",
       "      <td>0.953788</td>\n",
       "    </tr>\n",
       "    <tr>\n",
       "      <th>1</th>\n",
       "      <td>1.194886</td>\n",
       "      <td>1.330895</td>\n",
       "      <td>1.201934</td>\n",
       "      <td>0.38564</td>\n",
       "      <td>1.390638</td>\n",
       "    </tr>\n",
       "    <tr>\n",
       "      <th>2</th>\n",
       "      <td>0.094333</td>\n",
       "      <td>0.435729</td>\n",
       "      <td>-1.281533</td>\n",
       "      <td>0.38564</td>\n",
       "      <td>0.473254</td>\n",
       "    </tr>\n",
       "    <tr>\n",
       "      <th>3</th>\n",
       "      <td>0.094333</td>\n",
       "      <td>0.546092</td>\n",
       "      <td>0.390032</td>\n",
       "      <td>0.38564</td>\n",
       "      <td>-1.448885</td>\n",
       "    </tr>\n",
       "    <tr>\n",
       "      <th>4</th>\n",
       "      <td>-0.220111</td>\n",
       "      <td>-0.729213</td>\n",
       "      <td>-0.708425</td>\n",
       "      <td>0.38564</td>\n",
       "      <td>0.473254</td>\n",
       "    </tr>\n",
       "  </tbody>\n",
       "</table>\n",
       "</div>"
      ],
      "text/plain": [
       "      Test1  Homeworks   Quizzes  Presentation  Fianl-Exam\n",
       "0 -0.220111  -0.582062  1.010898       0.38564    0.953788\n",
       "1  1.194886   1.330895  1.201934       0.38564    1.390638\n",
       "2  0.094333   0.435729 -1.281533       0.38564    0.473254\n",
       "3  0.094333   0.546092  0.390032       0.38564   -1.448885\n",
       "4 -0.220111  -0.729213 -0.708425       0.38564    0.473254"
      ]
     },
     "execution_count": 9,
     "metadata": {},
     "output_type": "execute_result"
    }
   ],
   "source": [
    "# another way to normalize data using means and std_devs\n",
    "df_normalized_2 = df.copy()\n",
    "for col in df_normalized_2.columns:\n",
    "    df_normalized_2[col] = (df_normalized_2[col]- df_normalized_2[col].mean()) / df_normalized_2[col].std()\n",
    "df_normalized_2.head()"
   ]
  },
  {
   "cell_type": "markdown",
   "id": "ec5489e3",
   "metadata": {},
   "source": [
    "## 1d. Reference student original and stardardize score"
   ]
  },
  {
   "cell_type": "code",
   "execution_count": 10,
   "id": "a3119031",
   "metadata": {},
   "outputs": [
    {
     "name": "stdout",
     "output_type": "stream",
     "text": [
      "Student Reference ID: 28, index: 27\n",
      "\n",
      "Original DataFrame:\n",
      "Test1            45.0\n",
      "Homeworks       392.0\n",
      "Quizzes         130.0\n",
      "Presentation     50.0\n",
      "Fianl-Exam       77.0\n",
      "Name: 27, dtype: float64\n",
      "\n",
      "Normalized DataFrame:\n",
      "Test1           0.408777\n",
      "Homeworks       1.232795\n",
      "Quizzes         0.724345\n",
      "Presentation    0.385640\n",
      "Fianl-Exam      0.385884\n",
      "Name: 27, dtype: float64\n"
     ]
    }
   ],
   "source": [
    "# print the row corresponding to your STUDENT_REF_ID\n",
    "print(f'Student Reference ID: {STUDENT_REF_ID}, index: {STUDENT_REF_ID-1}\\n')\n",
    "print(f'Original DataFrame:\\n{df.iloc[STUDENT_REF_ID-1]}\\n')\n",
    "print(f'Normalized DataFrame:\\n{df_normalized_1.iloc[STUDENT_REF_ID-1]}')"
   ]
  },
  {
   "cell_type": "markdown",
   "id": "93bb62b8",
   "metadata": {},
   "source": [
    "## 1e. Highest and lowest standardized scores"
   ]
  },
  {
   "cell_type": "code",
   "execution_count": 11,
   "id": "6829fcc0",
   "metadata": {},
   "outputs": [
    {
     "name": "stdout",
     "output_type": "stream",
     "text": [
      "\n",
      "(*) Highest and lowest standardized score for each column in normalized DataFrame:\n",
      "Column 'Test1': highest = 1.1949, lowest = -2.4212\n",
      "Column 'Homeworks': highest = 1.3309, lowest = -2.0045\n",
      "Column 'Quizzes': highest = 1.2019, lowest = -1.9502\n",
      "Column 'Presentation': highest = 0.3856, lowest = -2.5067\n",
      "Column 'Fianl-Exam': highest = 1.3906, lowest = -1.9294\n",
      "\n",
      "(*) Summary DataFrame:\n"
     ]
    },
    {
     "data": {
      "application/vnd.microsoft.datawrangler.viewer.v0+json": {
       "columns": [
        {
         "name": "Column",
         "rawType": "object",
         "type": "string"
        },
        {
         "name": "Mean",
         "rawType": "float64",
         "type": "float"
        },
        {
         "name": "Standard Deviation",
         "rawType": "float64",
         "type": "float"
        },
        {
         "name": "Highest Standardized Score",
         "rawType": "float64",
         "type": "float"
        },
        {
         "name": "Lowest Standardized Score",
         "rawType": "float64",
         "type": "float"
        }
       ],
       "ref": "cb04c788-3096-49f4-aeaf-14dbacb94bf1",
       "rows": [
        [
         "Test1",
         "42.4",
         "6.360438067758628",
         "1.1948862513927734",
         "-2.421216877822198"
        ],
        [
         "Homeworks",
         "291.46666666666664",
         "81.54911079383005",
         "1.3308953620318924",
         "-2.004518075984152"
        ],
        [
         "Quizzes",
         "114.83333333333333",
         "20.938470341213684",
         "1.2019343465186436",
         "-1.9501583768017723"
        ],
        [
         "Presentation",
         "48.666666666666664",
         "3.4574590364176037",
         "0.38563966175427195",
         "-2.5066578014027625"
        ],
        [
         "Fianl-Exam",
         "68.16666666666667",
         "22.89117181636704",
         "1.3906379974210277",
         "-1.929419211081531"
        ]
       ],
       "shape": {
        "columns": 4,
        "rows": 5
       }
      },
      "text/html": [
       "<div>\n",
       "<style scoped>\n",
       "    .dataframe tbody tr th:only-of-type {\n",
       "        vertical-align: middle;\n",
       "    }\n",
       "\n",
       "    .dataframe tbody tr th {\n",
       "        vertical-align: top;\n",
       "    }\n",
       "\n",
       "    .dataframe thead th {\n",
       "        text-align: right;\n",
       "    }\n",
       "</style>\n",
       "<table border=\"1\" class=\"dataframe\">\n",
       "  <thead>\n",
       "    <tr style=\"text-align: right;\">\n",
       "      <th></th>\n",
       "      <th>Mean</th>\n",
       "      <th>Standard Deviation</th>\n",
       "      <th>Highest Standardized Score</th>\n",
       "      <th>Lowest Standardized Score</th>\n",
       "    </tr>\n",
       "    <tr>\n",
       "      <th>Column</th>\n",
       "      <th></th>\n",
       "      <th></th>\n",
       "      <th></th>\n",
       "      <th></th>\n",
       "    </tr>\n",
       "  </thead>\n",
       "  <tbody>\n",
       "    <tr>\n",
       "      <th>Test1</th>\n",
       "      <td>42.400000</td>\n",
       "      <td>6.360438</td>\n",
       "      <td>1.194886</td>\n",
       "      <td>-2.421217</td>\n",
       "    </tr>\n",
       "    <tr>\n",
       "      <th>Homeworks</th>\n",
       "      <td>291.466667</td>\n",
       "      <td>81.549111</td>\n",
       "      <td>1.330895</td>\n",
       "      <td>-2.004518</td>\n",
       "    </tr>\n",
       "    <tr>\n",
       "      <th>Quizzes</th>\n",
       "      <td>114.833333</td>\n",
       "      <td>20.938470</td>\n",
       "      <td>1.201934</td>\n",
       "      <td>-1.950158</td>\n",
       "    </tr>\n",
       "    <tr>\n",
       "      <th>Presentation</th>\n",
       "      <td>48.666667</td>\n",
       "      <td>3.457459</td>\n",
       "      <td>0.385640</td>\n",
       "      <td>-2.506658</td>\n",
       "    </tr>\n",
       "    <tr>\n",
       "      <th>Fianl-Exam</th>\n",
       "      <td>68.166667</td>\n",
       "      <td>22.891172</td>\n",
       "      <td>1.390638</td>\n",
       "      <td>-1.929419</td>\n",
       "    </tr>\n",
       "  </tbody>\n",
       "</table>\n",
       "</div>"
      ],
      "text/plain": [
       "                    Mean  Standard Deviation  Highest Standardized Score  \\\n",
       "Column                                                                     \n",
       "Test1          42.400000            6.360438                    1.194886   \n",
       "Homeworks     291.466667           81.549111                    1.330895   \n",
       "Quizzes       114.833333           20.938470                    1.201934   \n",
       "Presentation   48.666667            3.457459                    0.385640   \n",
       "Fianl-Exam     68.166667           22.891172                    1.390638   \n",
       "\n",
       "              Lowest Standardized Score  \n",
       "Column                                   \n",
       "Test1                         -2.421217  \n",
       "Homeworks                     -2.004518  \n",
       "Quizzes                       -1.950158  \n",
       "Presentation                  -2.506658  \n",
       "Fianl-Exam                    -1.929419  "
      ]
     },
     "execution_count": 11,
     "metadata": {},
     "output_type": "execute_result"
    }
   ],
   "source": [
    "# get highest and lowest standardized score for each column in normalized DataFrame\n",
    "print(\"\\n(*) Highest and lowest standardized score for each column in normalized DataFrame:\")\n",
    "for col in df_normalized_1.columns:\n",
    "    print(f\"Column '{col}': highest = {df_normalized_1[col].max():.4f}, lowest = {df_normalized_1[col].min():.4f}\")\n",
    "\n",
    "# organize into a new DataFrame\n",
    "df_summary = pd.DataFrame({\n",
    "    'Column': df.columns,\n",
    "    'Mean': means,\n",
    "    'Standard Deviation': std_devs,\n",
    "    'Highest Standardized Score': [df_normalized_1[col].max() for col in df.columns],\n",
    "    'Lowest Standardized Score': [df_normalized_1[col].min() for col in df.columns]\n",
    "})\n",
    "df_summary = df_summary.set_index('Column')\n",
    "print(\"\\n(*) Summary DataFrame:\")\n",
    "df_summary"
   ]
  },
  {
   "cell_type": "markdown",
   "id": "841afe43",
   "metadata": {},
   "source": [
    "## 1g. covariance matrix"
   ]
  },
  {
   "cell_type": "code",
   "execution_count": 12,
   "id": "f1ed2ffa",
   "metadata": {},
   "outputs": [
    {
     "data": {
      "application/vnd.microsoft.datawrangler.viewer.v0+json": {
       "columns": [
        {
         "name": "index",
         "rawType": "object",
         "type": "string"
        },
        {
         "name": "Test1",
         "rawType": "float64",
         "type": "float"
        },
        {
         "name": "Homeworks",
         "rawType": "float64",
         "type": "float"
        },
        {
         "name": "Quizzes",
         "rawType": "float64",
         "type": "float"
        },
        {
         "name": "Presentation",
         "rawType": "float64",
         "type": "float"
        },
        {
         "name": "Fianl-Exam",
         "rawType": "float64",
         "type": "float"
        }
       ],
       "ref": "c8cd0856-f52c-46c6-b6f4-9ee8defea792",
       "rows": [
        [
         "Test1",
         "0.9999999999999998",
         "0.528215948825393",
         "0.5289789489856324",
         "0.5895841171042948",
         "0.31025461082022526"
        ],
        [
         "Homeworks",
         "0.528215948825393",
         "0.9999999999999999",
         "0.4331834606364302",
         "0.4927051072397932",
         "0.12331314954149286"
        ],
        [
         "Quizzes",
         "0.5289789489856324",
         "0.4331834606364302",
         "0.9999999999999999",
         "0.5874629434516359",
         "0.28452289031051575"
        ],
        [
         "Presentation",
         "0.5895841171042948",
         "0.4927051072397932",
         "0.5874629434516359",
         "1.0",
         "0.31224402661266754"
        ],
        [
         "Fianl-Exam",
         "0.31025461082022526",
         "0.12331314954149286",
         "0.28452289031051575",
         "0.31224402661266754",
         "1.0000000000000002"
        ]
       ],
       "shape": {
        "columns": 5,
        "rows": 5
       }
      },
      "text/html": [
       "<div>\n",
       "<style scoped>\n",
       "    .dataframe tbody tr th:only-of-type {\n",
       "        vertical-align: middle;\n",
       "    }\n",
       "\n",
       "    .dataframe tbody tr th {\n",
       "        vertical-align: top;\n",
       "    }\n",
       "\n",
       "    .dataframe thead th {\n",
       "        text-align: right;\n",
       "    }\n",
       "</style>\n",
       "<table border=\"1\" class=\"dataframe\">\n",
       "  <thead>\n",
       "    <tr style=\"text-align: right;\">\n",
       "      <th></th>\n",
       "      <th>Test1</th>\n",
       "      <th>Homeworks</th>\n",
       "      <th>Quizzes</th>\n",
       "      <th>Presentation</th>\n",
       "      <th>Fianl-Exam</th>\n",
       "    </tr>\n",
       "  </thead>\n",
       "  <tbody>\n",
       "    <tr>\n",
       "      <th>Test1</th>\n",
       "      <td>1.000000</td>\n",
       "      <td>0.528216</td>\n",
       "      <td>0.528979</td>\n",
       "      <td>0.589584</td>\n",
       "      <td>0.310255</td>\n",
       "    </tr>\n",
       "    <tr>\n",
       "      <th>Homeworks</th>\n",
       "      <td>0.528216</td>\n",
       "      <td>1.000000</td>\n",
       "      <td>0.433183</td>\n",
       "      <td>0.492705</td>\n",
       "      <td>0.123313</td>\n",
       "    </tr>\n",
       "    <tr>\n",
       "      <th>Quizzes</th>\n",
       "      <td>0.528979</td>\n",
       "      <td>0.433183</td>\n",
       "      <td>1.000000</td>\n",
       "      <td>0.587463</td>\n",
       "      <td>0.284523</td>\n",
       "    </tr>\n",
       "    <tr>\n",
       "      <th>Presentation</th>\n",
       "      <td>0.589584</td>\n",
       "      <td>0.492705</td>\n",
       "      <td>0.587463</td>\n",
       "      <td>1.000000</td>\n",
       "      <td>0.312244</td>\n",
       "    </tr>\n",
       "    <tr>\n",
       "      <th>Fianl-Exam</th>\n",
       "      <td>0.310255</td>\n",
       "      <td>0.123313</td>\n",
       "      <td>0.284523</td>\n",
       "      <td>0.312244</td>\n",
       "      <td>1.000000</td>\n",
       "    </tr>\n",
       "  </tbody>\n",
       "</table>\n",
       "</div>"
      ],
      "text/plain": [
       "                 Test1  Homeworks   Quizzes  Presentation  Fianl-Exam\n",
       "Test1         1.000000   0.528216  0.528979      0.589584    0.310255\n",
       "Homeworks     0.528216   1.000000  0.433183      0.492705    0.123313\n",
       "Quizzes       0.528979   0.433183  1.000000      0.587463    0.284523\n",
       "Presentation  0.589584   0.492705  0.587463      1.000000    0.312244\n",
       "Fianl-Exam    0.310255   0.123313  0.284523      0.312244    1.000000"
      ]
     },
     "execution_count": 12,
     "metadata": {},
     "output_type": "execute_result"
    }
   ],
   "source": [
    "# get the covariance matrix of the normalized data\n",
    "cov_matrix = df_normalized_1.cov()\n",
    "cov_matrix"
   ]
  },
  {
   "cell_type": "markdown",
   "id": "7bdc493a",
   "metadata": {},
   "source": [
    "## 1h. Eigenvectors and eigenvalues"
   ]
  },
  {
   "cell_type": "code",
   "execution_count": 13,
   "id": "7cc0b53a",
   "metadata": {},
   "outputs": [
    {
     "name": "stdout",
     "output_type": "stream",
     "text": [
      "Eigenvalues:\n",
      "[2.74013034 0.89489394 0.54782139 0.3910074  0.42614693]\n",
      "\n",
      "Eigenvectors:\n",
      "[[-0.49842442 -0.06846767 -0.18547916 -0.45846469 -0.70872624]\n",
      " [-0.4330442  -0.44889039 -0.61155673  0.03462762  0.48556093]\n",
      " [-0.47655198 -0.0216836   0.66377748 -0.3951545   0.41914247]\n",
      " [-0.5040327  -0.03452812  0.25079718  0.79526868 -0.22227764]\n",
      " [-0.28791502  0.89002653 -0.29680983  0.00342098  0.19196337]]\n"
     ]
    }
   ],
   "source": [
    "# find eigenvalues and eigenvectors\n",
    "eigenvalues, eigenvectors = np.linalg.eig(cov_matrix)\n",
    "print(\"Eigenvalues:\")\n",
    "print(eigenvalues)\n",
    "print(\"\\nEigenvectors:\")    \n",
    "print(eigenvectors)"
   ]
  },
  {
   "cell_type": "markdown",
   "id": "37aec417",
   "metadata": {},
   "source": [
    "# Q2"
   ]
  },
  {
   "cell_type": "markdown",
   "id": "a6b8272c",
   "metadata": {},
   "source": [
    "## 2a. Closest student to ref student via Euclidean Distant"
   ]
  },
  {
   "cell_type": "code",
   "execution_count": 14,
   "id": "04fb3ab9",
   "metadata": {},
   "outputs": [
    {
     "data": {
      "application/vnd.microsoft.datawrangler.viewer.v0+json": {
       "columns": [
        {
         "name": "index",
         "rawType": "int64",
         "type": "integer"
        },
        {
         "name": "Student ID",
         "rawType": "int64",
         "type": "integer"
        },
        {
         "name": "Euclidean Distance",
         "rawType": "float64",
         "type": "float"
        }
       ],
       "ref": "76bf805d-ca59-4062-b4c1-18c8845f1177",
       "rows": [
        [
         "0",
         "1",
         "2.0233228180594462"
        ],
        [
         "1",
         "2",
         "1.3657285873055565"
        ],
        [
         "2",
         "3",
         "2.182971693798875"
        ],
        [
         "3",
         "4",
         "2.0121073394125117"
        ],
        [
         "4",
         "5",
         "2.5110627671982115"
        ],
        [
         "5",
         "6",
         "1.387557120509557"
        ],
        [
         "6",
         "7",
         "1.1652571185391125"
        ],
        [
         "7",
         "8",
         "1.8663940703384152"
        ],
        [
         "8",
         "9",
         "4.931922610096027"
        ],
        [
         "9",
         "10",
         "0.8195851793717468"
        ],
        [
         "10",
         "11",
         "2.8448808138079"
        ],
        [
         "11",
         "12",
         "3.2844175879725674"
        ],
        [
         "12",
         "13",
         "1.5666279788295934"
        ],
        [
         "13",
         "14",
         "1.2096998682542748"
        ],
        [
         "14",
         "15",
         "2.028127903196727"
        ],
        [
         "15",
         "16",
         "2.3124474463473614"
        ],
        [
         "16",
         "17",
         "2.2647665238954438"
        ],
        [
         "17",
         "18",
         "1.283061273588842"
        ],
        [
         "18",
         "19",
         "2.2245826721532076"
        ],
        [
         "19",
         "20",
         "2.410075820479638"
        ],
        [
         "20",
         "21",
         "1.7091018033653158"
        ],
        [
         "21",
         "22",
         "3.5627717800383425"
        ],
        [
         "22",
         "23",
         "5.341549394397449"
        ],
        [
         "23",
         "24",
         "2.893547299506015"
        ],
        [
         "24",
         "25",
         "2.715484058319546"
        ],
        [
         "25",
         "26",
         "1.1844674231873205"
        ],
        [
         "26",
         "27",
         "1.6529912345165976"
        ],
        [
         "27",
         "29",
         "5.352132084064723"
        ],
        [
         "28",
         "30",
         "4.9969396830766515"
        ]
       ],
       "shape": {
        "columns": 2,
        "rows": 29
       }
      },
      "text/html": [
       "<div>\n",
       "<style scoped>\n",
       "    .dataframe tbody tr th:only-of-type {\n",
       "        vertical-align: middle;\n",
       "    }\n",
       "\n",
       "    .dataframe tbody tr th {\n",
       "        vertical-align: top;\n",
       "    }\n",
       "\n",
       "    .dataframe thead th {\n",
       "        text-align: right;\n",
       "    }\n",
       "</style>\n",
       "<table border=\"1\" class=\"dataframe\">\n",
       "  <thead>\n",
       "    <tr style=\"text-align: right;\">\n",
       "      <th></th>\n",
       "      <th>Student ID</th>\n",
       "      <th>Euclidean Distance</th>\n",
       "    </tr>\n",
       "  </thead>\n",
       "  <tbody>\n",
       "    <tr>\n",
       "      <th>0</th>\n",
       "      <td>1</td>\n",
       "      <td>2.023323</td>\n",
       "    </tr>\n",
       "    <tr>\n",
       "      <th>1</th>\n",
       "      <td>2</td>\n",
       "      <td>1.365729</td>\n",
       "    </tr>\n",
       "    <tr>\n",
       "      <th>2</th>\n",
       "      <td>3</td>\n",
       "      <td>2.182972</td>\n",
       "    </tr>\n",
       "    <tr>\n",
       "      <th>3</th>\n",
       "      <td>4</td>\n",
       "      <td>2.012107</td>\n",
       "    </tr>\n",
       "    <tr>\n",
       "      <th>4</th>\n",
       "      <td>5</td>\n",
       "      <td>2.511063</td>\n",
       "    </tr>\n",
       "    <tr>\n",
       "      <th>5</th>\n",
       "      <td>6</td>\n",
       "      <td>1.387557</td>\n",
       "    </tr>\n",
       "    <tr>\n",
       "      <th>6</th>\n",
       "      <td>7</td>\n",
       "      <td>1.165257</td>\n",
       "    </tr>\n",
       "    <tr>\n",
       "      <th>7</th>\n",
       "      <td>8</td>\n",
       "      <td>1.866394</td>\n",
       "    </tr>\n",
       "    <tr>\n",
       "      <th>8</th>\n",
       "      <td>9</td>\n",
       "      <td>4.931923</td>\n",
       "    </tr>\n",
       "    <tr>\n",
       "      <th>9</th>\n",
       "      <td>10</td>\n",
       "      <td>0.819585</td>\n",
       "    </tr>\n",
       "    <tr>\n",
       "      <th>10</th>\n",
       "      <td>11</td>\n",
       "      <td>2.844881</td>\n",
       "    </tr>\n",
       "    <tr>\n",
       "      <th>11</th>\n",
       "      <td>12</td>\n",
       "      <td>3.284418</td>\n",
       "    </tr>\n",
       "    <tr>\n",
       "      <th>12</th>\n",
       "      <td>13</td>\n",
       "      <td>1.566628</td>\n",
       "    </tr>\n",
       "    <tr>\n",
       "      <th>13</th>\n",
       "      <td>14</td>\n",
       "      <td>1.209700</td>\n",
       "    </tr>\n",
       "    <tr>\n",
       "      <th>14</th>\n",
       "      <td>15</td>\n",
       "      <td>2.028128</td>\n",
       "    </tr>\n",
       "    <tr>\n",
       "      <th>15</th>\n",
       "      <td>16</td>\n",
       "      <td>2.312447</td>\n",
       "    </tr>\n",
       "    <tr>\n",
       "      <th>16</th>\n",
       "      <td>17</td>\n",
       "      <td>2.264767</td>\n",
       "    </tr>\n",
       "    <tr>\n",
       "      <th>17</th>\n",
       "      <td>18</td>\n",
       "      <td>1.283061</td>\n",
       "    </tr>\n",
       "    <tr>\n",
       "      <th>18</th>\n",
       "      <td>19</td>\n",
       "      <td>2.224583</td>\n",
       "    </tr>\n",
       "    <tr>\n",
       "      <th>19</th>\n",
       "      <td>20</td>\n",
       "      <td>2.410076</td>\n",
       "    </tr>\n",
       "    <tr>\n",
       "      <th>20</th>\n",
       "      <td>21</td>\n",
       "      <td>1.709102</td>\n",
       "    </tr>\n",
       "    <tr>\n",
       "      <th>21</th>\n",
       "      <td>22</td>\n",
       "      <td>3.562772</td>\n",
       "    </tr>\n",
       "    <tr>\n",
       "      <th>22</th>\n",
       "      <td>23</td>\n",
       "      <td>5.341549</td>\n",
       "    </tr>\n",
       "    <tr>\n",
       "      <th>23</th>\n",
       "      <td>24</td>\n",
       "      <td>2.893547</td>\n",
       "    </tr>\n",
       "    <tr>\n",
       "      <th>24</th>\n",
       "      <td>25</td>\n",
       "      <td>2.715484</td>\n",
       "    </tr>\n",
       "    <tr>\n",
       "      <th>25</th>\n",
       "      <td>26</td>\n",
       "      <td>1.184467</td>\n",
       "    </tr>\n",
       "    <tr>\n",
       "      <th>26</th>\n",
       "      <td>27</td>\n",
       "      <td>1.652991</td>\n",
       "    </tr>\n",
       "    <tr>\n",
       "      <th>27</th>\n",
       "      <td>29</td>\n",
       "      <td>5.352132</td>\n",
       "    </tr>\n",
       "    <tr>\n",
       "      <th>28</th>\n",
       "      <td>30</td>\n",
       "      <td>4.996940</td>\n",
       "    </tr>\n",
       "  </tbody>\n",
       "</table>\n",
       "</div>"
      ],
      "text/plain": [
       "    Student ID  Euclidean Distance\n",
       "0            1            2.023323\n",
       "1            2            1.365729\n",
       "2            3            2.182972\n",
       "3            4            2.012107\n",
       "4            5            2.511063\n",
       "5            6            1.387557\n",
       "6            7            1.165257\n",
       "7            8            1.866394\n",
       "8            9            4.931923\n",
       "9           10            0.819585\n",
       "10          11            2.844881\n",
       "11          12            3.284418\n",
       "12          13            1.566628\n",
       "13          14            1.209700\n",
       "14          15            2.028128\n",
       "15          16            2.312447\n",
       "16          17            2.264767\n",
       "17          18            1.283061\n",
       "18          19            2.224583\n",
       "19          20            2.410076\n",
       "20          21            1.709102\n",
       "21          22            3.562772\n",
       "22          23            5.341549\n",
       "23          24            2.893547\n",
       "24          25            2.715484\n",
       "25          26            1.184467\n",
       "26          27            1.652991\n",
       "27          29            5.352132\n",
       "28          30            4.996940"
      ]
     },
     "execution_count": 14,
     "metadata": {},
     "output_type": "execute_result"
    }
   ],
   "source": [
    "# distant of students to STUDENT_REF_ID via Euclidean Distance\n",
    "from scipy.spatial import distance\n",
    "distances = []\n",
    "ref_student = df_normalized_1.iloc[STUDENT_REF_ID-1].values\n",
    "for i in range(len(df_normalized_1)):\n",
    "    if i != STUDENT_REF_ID - 1:  # skip the reference student\n",
    "        dist = distance.euclidean(ref_student, df_normalized_1.iloc[i].values) # calculate Euclidean distance\n",
    "        distances.append((i + 1, dist))  # store student ID (index + 1) and distance\n",
    "\n",
    "df_euclidean_distances = pd.DataFrame(distances, columns=['Student ID', 'Euclidean Distance']) # store in DataFrame\n",
    "closest_student = df_euclidean_distances.loc[df_euclidean_distances['Euclidean Distance'].idxmin()] \n",
    "\n",
    "df_euclidean_distances"
   ]
  },
  {
   "cell_type": "code",
   "execution_count": 15,
   "id": "072614f5",
   "metadata": {},
   "outputs": [
    {
     "name": "stdout",
     "output_type": "stream",
     "text": [
      "\n",
      "(*) Top 3 closest students to the reference student via Euclidean Distance:\n",
      "Student ID: 10, Distance: 0.8196\n",
      "Student ID: 7, Distance: 1.1653\n",
      "Student ID: 26, Distance: 1.1845\n"
     ]
    },
    {
     "data": {
      "application/vnd.microsoft.datawrangler.viewer.v0+json": {
       "columns": [
        {
         "name": "index",
         "rawType": "int64",
         "type": "integer"
        },
        {
         "name": "Student ID",
         "rawType": "int64",
         "type": "integer"
        },
        {
         "name": "Euclidean Distance",
         "rawType": "float64",
         "type": "float"
        }
       ],
       "ref": "0e15a9c8-58d1-4601-a585-9f5cf92dd360",
       "rows": [
        [
         "0",
         "10",
         "0.8195851793717468"
        ],
        [
         "1",
         "7",
         "1.1652571185391125"
        ],
        [
         "2",
         "26",
         "1.1844674231873205"
        ]
       ],
       "shape": {
        "columns": 2,
        "rows": 3
       }
      },
      "text/html": [
       "<div>\n",
       "<style scoped>\n",
       "    .dataframe tbody tr th:only-of-type {\n",
       "        vertical-align: middle;\n",
       "    }\n",
       "\n",
       "    .dataframe tbody tr th {\n",
       "        vertical-align: top;\n",
       "    }\n",
       "\n",
       "    .dataframe thead th {\n",
       "        text-align: right;\n",
       "    }\n",
       "</style>\n",
       "<table border=\"1\" class=\"dataframe\">\n",
       "  <thead>\n",
       "    <tr style=\"text-align: right;\">\n",
       "      <th></th>\n",
       "      <th>Student ID</th>\n",
       "      <th>Euclidean Distance</th>\n",
       "    </tr>\n",
       "  </thead>\n",
       "  <tbody>\n",
       "    <tr>\n",
       "      <th>0</th>\n",
       "      <td>10</td>\n",
       "      <td>0.819585</td>\n",
       "    </tr>\n",
       "    <tr>\n",
       "      <th>1</th>\n",
       "      <td>7</td>\n",
       "      <td>1.165257</td>\n",
       "    </tr>\n",
       "    <tr>\n",
       "      <th>2</th>\n",
       "      <td>26</td>\n",
       "      <td>1.184467</td>\n",
       "    </tr>\n",
       "  </tbody>\n",
       "</table>\n",
       "</div>"
      ],
      "text/plain": [
       "   Student ID  Euclidean Distance\n",
       "0          10            0.819585\n",
       "1           7            1.165257\n",
       "2          26            1.184467"
      ]
     },
     "execution_count": 15,
     "metadata": {},
     "output_type": "execute_result"
    }
   ],
   "source": [
    "# sort distances and get top 3 closest students\n",
    "distances.sort(key=lambda x: x[1])\n",
    "top_3_closest_euclidean = distances[:3]\n",
    "print(\"\\n(*) Top 3 closest students to the reference student via Euclidean Distance:\")\n",
    "for student_id, dist in top_3_closest_euclidean:\n",
    "    print(f\"Student ID: {student_id}, Distance: {dist:.4f}\")\n",
    "\n",
    "# to dataframe\n",
    "df_top_3_closest_euclidean = pd.DataFrame(top_3_closest_euclidean, columns=['Student ID', 'Euclidean Distance'])\n",
    "df_top_3_closest_euclidean\n"
   ]
  },
  {
   "cell_type": "code",
   "execution_count": 16,
   "id": "82515f5b",
   "metadata": {},
   "outputs": [
    {
     "data": {
      "application/vnd.microsoft.datawrangler.viewer.v0+json": {
       "columns": [
        {
         "name": "Student ID",
         "rawType": "int64",
         "type": "integer"
        },
        {
         "name": "Test1",
         "rawType": "float64",
         "type": "float"
        },
        {
         "name": "Homeworks",
         "rawType": "float64",
         "type": "float"
        },
        {
         "name": "Quizzes",
         "rawType": "float64",
         "type": "float"
        },
        {
         "name": "Presentation",
         "rawType": "float64",
         "type": "float"
        },
        {
         "name": "Fianl-Exam",
         "rawType": "float64",
         "type": "float"
        }
       ],
       "ref": "fa8e903b-d4fd-4913-bf42-b3f2da07bb23",
       "rows": [
        [
         "10",
         "1.1948862513927734",
         "1.1346945715603605",
         "0.915380462580424",
         "0.38563966175427195",
         "0.29851391567676494"
        ],
        [
         "7",
         "0.7232206258429944",
         "0.22726591562952492",
         "0.4855496366730946",
         "0.38563966175427195",
         "0.8227334749140109"
        ],
        [
         "26",
         "1.1948862513927734",
         "1.012069077515653",
         "0.29451371404761484",
         "0.38563966175427195",
         "1.1285282178024045"
        ]
       ],
       "shape": {
        "columns": 5,
        "rows": 3
       }
      },
      "text/html": [
       "<div>\n",
       "<style scoped>\n",
       "    .dataframe tbody tr th:only-of-type {\n",
       "        vertical-align: middle;\n",
       "    }\n",
       "\n",
       "    .dataframe tbody tr th {\n",
       "        vertical-align: top;\n",
       "    }\n",
       "\n",
       "    .dataframe thead th {\n",
       "        text-align: right;\n",
       "    }\n",
       "</style>\n",
       "<table border=\"1\" class=\"dataframe\">\n",
       "  <thead>\n",
       "    <tr style=\"text-align: right;\">\n",
       "      <th></th>\n",
       "      <th>Test1</th>\n",
       "      <th>Homeworks</th>\n",
       "      <th>Quizzes</th>\n",
       "      <th>Presentation</th>\n",
       "      <th>Fianl-Exam</th>\n",
       "    </tr>\n",
       "    <tr>\n",
       "      <th>Student ID</th>\n",
       "      <th></th>\n",
       "      <th></th>\n",
       "      <th></th>\n",
       "      <th></th>\n",
       "      <th></th>\n",
       "    </tr>\n",
       "  </thead>\n",
       "  <tbody>\n",
       "    <tr>\n",
       "      <th>10</th>\n",
       "      <td>1.194886</td>\n",
       "      <td>1.134695</td>\n",
       "      <td>0.915380</td>\n",
       "      <td>0.38564</td>\n",
       "      <td>0.298514</td>\n",
       "    </tr>\n",
       "    <tr>\n",
       "      <th>7</th>\n",
       "      <td>0.723221</td>\n",
       "      <td>0.227266</td>\n",
       "      <td>0.485550</td>\n",
       "      <td>0.38564</td>\n",
       "      <td>0.822733</td>\n",
       "    </tr>\n",
       "    <tr>\n",
       "      <th>26</th>\n",
       "      <td>1.194886</td>\n",
       "      <td>1.012069</td>\n",
       "      <td>0.294514</td>\n",
       "      <td>0.38564</td>\n",
       "      <td>1.128528</td>\n",
       "    </tr>\n",
       "  </tbody>\n",
       "</table>\n",
       "</div>"
      ],
      "text/plain": [
       "               Test1  Homeworks   Quizzes  Presentation  Fianl-Exam\n",
       "Student ID                                                         \n",
       "10          1.194886   1.134695  0.915380       0.38564    0.298514\n",
       "7           0.723221   0.227266  0.485550       0.38564    0.822733\n",
       "26          1.194886   1.012069  0.294514       0.38564    1.128528"
      ]
     },
     "execution_count": 16,
     "metadata": {},
     "output_type": "execute_result"
    }
   ],
   "source": [
    "# top 3 closest students scores\n",
    "df_top_3_closest_euclidean_scores = df_normalized_1.loc[[student_id - 1 for student_id, _ in top_3_closest_euclidean]]\n",
    "df_top_3_closest_euclidean_scores['Student ID'] = [student_id for student_id, _ in top_3_closest_euclidean]\n",
    "df_top_3_closest_euclidean_scores = df_top_3_closest_euclidean_scores.set_index('Student ID')\n",
    "df_top_3_closest_euclidean_scores"
   ]
  },
  {
   "cell_type": "markdown",
   "id": "ca8c067d",
   "metadata": {},
   "source": [
    "## 2b. Furthest student from the ref student via Euclidean distant"
   ]
  },
  {
   "cell_type": "code",
   "execution_count": 17,
   "id": "3a06f1c0",
   "metadata": {},
   "outputs": [
    {
     "name": "stdout",
     "output_type": "stream",
     "text": [
      "\n",
      "(*) Top 3 farthest students from the reference student via Euclidean Distance:\n",
      "Student ID: 30, Distance: 4.9969\n",
      "Student ID: 23, Distance: 5.3415\n",
      "Student ID: 29, Distance: 5.3521\n"
     ]
    },
    {
     "data": {
      "application/vnd.microsoft.datawrangler.viewer.v0+json": {
       "columns": [
        {
         "name": "index",
         "rawType": "int64",
         "type": "integer"
        },
        {
         "name": "Student ID",
         "rawType": "int64",
         "type": "integer"
        },
        {
         "name": "Euclidean Distance",
         "rawType": "float64",
         "type": "float"
        }
       ],
       "ref": "bc508a85-e433-46ef-b72e-267914c85de7",
       "rows": [
        [
         "0",
         "30",
         "4.9969396830766515"
        ],
        [
         "1",
         "23",
         "5.341549394397449"
        ],
        [
         "2",
         "29",
         "5.352132084064723"
        ]
       ],
       "shape": {
        "columns": 2,
        "rows": 3
       }
      },
      "text/html": [
       "<div>\n",
       "<style scoped>\n",
       "    .dataframe tbody tr th:only-of-type {\n",
       "        vertical-align: middle;\n",
       "    }\n",
       "\n",
       "    .dataframe tbody tr th {\n",
       "        vertical-align: top;\n",
       "    }\n",
       "\n",
       "    .dataframe thead th {\n",
       "        text-align: right;\n",
       "    }\n",
       "</style>\n",
       "<table border=\"1\" class=\"dataframe\">\n",
       "  <thead>\n",
       "    <tr style=\"text-align: right;\">\n",
       "      <th></th>\n",
       "      <th>Student ID</th>\n",
       "      <th>Euclidean Distance</th>\n",
       "    </tr>\n",
       "  </thead>\n",
       "  <tbody>\n",
       "    <tr>\n",
       "      <th>0</th>\n",
       "      <td>30</td>\n",
       "      <td>4.996940</td>\n",
       "    </tr>\n",
       "    <tr>\n",
       "      <th>1</th>\n",
       "      <td>23</td>\n",
       "      <td>5.341549</td>\n",
       "    </tr>\n",
       "    <tr>\n",
       "      <th>2</th>\n",
       "      <td>29</td>\n",
       "      <td>5.352132</td>\n",
       "    </tr>\n",
       "  </tbody>\n",
       "</table>\n",
       "</div>"
      ],
      "text/plain": [
       "   Student ID  Euclidean Distance\n",
       "0          30            4.996940\n",
       "1          23            5.341549\n",
       "2          29            5.352132"
      ]
     },
     "execution_count": 17,
     "metadata": {},
     "output_type": "execute_result"
    }
   ],
   "source": [
    "# top 3 student farthest from the reference student\n",
    "top_3_farthest_euclidean = distances[-3:]\n",
    "print(\"\\n(*) Top 3 farthest students from the reference student via Euclidean Distance:\")\n",
    "for student_id, dist in top_3_farthest_euclidean:\n",
    "    print(f\"Student ID: {student_id}, Distance: {dist:.4f}\")\n",
    "\n",
    "# to dataframe\n",
    "df_top_3_farthest_euclidean = pd.DataFrame(top_3_farthest_euclidean, columns=['Student ID', 'Euclidean Distance'])\n",
    "df_top_3_farthest_euclidean"
   ]
  },
  {
   "cell_type": "code",
   "execution_count": 18,
   "id": "b691501a",
   "metadata": {},
   "outputs": [
    {
     "data": {
      "application/vnd.microsoft.datawrangler.viewer.v0+json": {
       "columns": [
        {
         "name": "Student ID",
         "rawType": "int64",
         "type": "integer"
        },
        {
         "name": "Test1",
         "rawType": "float64",
         "type": "float"
        },
        {
         "name": "Homeworks",
         "rawType": "float64",
         "type": "float"
        },
        {
         "name": "Quizzes",
         "rawType": "float64",
         "type": "float"
        },
        {
         "name": "Presentation",
         "rawType": "float64",
         "type": "float"
        },
        {
         "name": "Fianl-Exam",
         "rawType": "float64",
         "type": "float"
        }
       ],
       "ref": "ebe8cc24-fcd6-46af-90a9-3467b50b355a",
       "rows": [
        [
         "30",
         "-1.7923293770891593",
         "-0.8518384319639012",
         "-0.7084248797361539",
         "-2.5066578014027625",
         "-1.929419211081531"
        ],
        [
         "23",
         "-2.421216877822198",
         "-1.1829272658846115",
         "-1.7591224541762924",
         "-2.5066578014027625",
         "0.7790485116442405"
        ],
        [
         "29",
         "-1.6351075019058998",
         "-0.9008886295817842",
         "-1.9501583768017723",
         "-2.5066578014027625",
         "-1.7109943947326784"
        ]
       ],
       "shape": {
        "columns": 5,
        "rows": 3
       }
      },
      "text/html": [
       "<div>\n",
       "<style scoped>\n",
       "    .dataframe tbody tr th:only-of-type {\n",
       "        vertical-align: middle;\n",
       "    }\n",
       "\n",
       "    .dataframe tbody tr th {\n",
       "        vertical-align: top;\n",
       "    }\n",
       "\n",
       "    .dataframe thead th {\n",
       "        text-align: right;\n",
       "    }\n",
       "</style>\n",
       "<table border=\"1\" class=\"dataframe\">\n",
       "  <thead>\n",
       "    <tr style=\"text-align: right;\">\n",
       "      <th></th>\n",
       "      <th>Test1</th>\n",
       "      <th>Homeworks</th>\n",
       "      <th>Quizzes</th>\n",
       "      <th>Presentation</th>\n",
       "      <th>Fianl-Exam</th>\n",
       "    </tr>\n",
       "    <tr>\n",
       "      <th>Student ID</th>\n",
       "      <th></th>\n",
       "      <th></th>\n",
       "      <th></th>\n",
       "      <th></th>\n",
       "      <th></th>\n",
       "    </tr>\n",
       "  </thead>\n",
       "  <tbody>\n",
       "    <tr>\n",
       "      <th>30</th>\n",
       "      <td>-1.792329</td>\n",
       "      <td>-0.851838</td>\n",
       "      <td>-0.708425</td>\n",
       "      <td>-2.506658</td>\n",
       "      <td>-1.929419</td>\n",
       "    </tr>\n",
       "    <tr>\n",
       "      <th>23</th>\n",
       "      <td>-2.421217</td>\n",
       "      <td>-1.182927</td>\n",
       "      <td>-1.759122</td>\n",
       "      <td>-2.506658</td>\n",
       "      <td>0.779049</td>\n",
       "    </tr>\n",
       "    <tr>\n",
       "      <th>29</th>\n",
       "      <td>-1.635108</td>\n",
       "      <td>-0.900889</td>\n",
       "      <td>-1.950158</td>\n",
       "      <td>-2.506658</td>\n",
       "      <td>-1.710994</td>\n",
       "    </tr>\n",
       "  </tbody>\n",
       "</table>\n",
       "</div>"
      ],
      "text/plain": [
       "               Test1  Homeworks   Quizzes  Presentation  Fianl-Exam\n",
       "Student ID                                                         \n",
       "30         -1.792329  -0.851838 -0.708425     -2.506658   -1.929419\n",
       "23         -2.421217  -1.182927 -1.759122     -2.506658    0.779049\n",
       "29         -1.635108  -0.900889 -1.950158     -2.506658   -1.710994"
      ]
     },
     "execution_count": 18,
     "metadata": {},
     "output_type": "execute_result"
    }
   ],
   "source": [
    "# top 3 farthest students scores\n",
    "df_top_3_farthest_euclidean_scores = df_normalized_1.loc[[student_id - 1 for student_id, _ in top_3_farthest_euclidean]]\n",
    "df_top_3_farthest_euclidean_scores['Student ID'] = [student_id for student_id, _ in top_3_farthest_euclidean]\n",
    "df_top_3_farthest_euclidean_scores = df_top_3_farthest_euclidean_scores.set_index('Student ID')\n",
    "df_top_3_farthest_euclidean_scores"
   ]
  },
  {
   "cell_type": "markdown",
   "id": "6c7f5dff",
   "metadata": {},
   "source": [
    "# Q3"
   ]
  },
  {
   "cell_type": "markdown",
   "id": "939c0257",
   "metadata": {},
   "source": [
    "## 3a. covariance matrix and its inverse"
   ]
  },
  {
   "cell_type": "code",
   "execution_count": 23,
   "id": "2adbcfad",
   "metadata": {},
   "outputs": [
    {
     "data": {
      "application/vnd.microsoft.datawrangler.viewer.v0+json": {
       "columns": [
        {
         "name": "index",
         "rawType": "object",
         "type": "string"
        },
        {
         "name": "Test1",
         "rawType": "float64",
         "type": "float"
        },
        {
         "name": "Homeworks",
         "rawType": "float64",
         "type": "float"
        },
        {
         "name": "Quizzes",
         "rawType": "float64",
         "type": "float"
        },
        {
         "name": "Presentation",
         "rawType": "float64",
         "type": "float"
        },
        {
         "name": "Fianl-Exam",
         "rawType": "float64",
         "type": "float"
        }
       ],
       "ref": "67cee509-a346-4f18-b2aa-55822e2f9e70",
       "rows": [
        [
         "Test1",
         "0.9999999999999998",
         "0.528215948825393",
         "0.5289789489856324",
         "0.5895841171042948",
         "0.31025461082022526"
        ],
        [
         "Homeworks",
         "0.528215948825393",
         "0.9999999999999999",
         "0.4331834606364302",
         "0.4927051072397932",
         "0.12331314954149286"
        ],
        [
         "Quizzes",
         "0.5289789489856324",
         "0.4331834606364302",
         "0.9999999999999999",
         "0.5874629434516359",
         "0.28452289031051575"
        ],
        [
         "Presentation",
         "0.5895841171042948",
         "0.4927051072397932",
         "0.5874629434516359",
         "1.0",
         "0.31224402661266754"
        ],
        [
         "Fianl-Exam",
         "0.31025461082022526",
         "0.12331314954149286",
         "0.28452289031051575",
         "0.31224402661266754",
         "1.0000000000000002"
        ]
       ],
       "shape": {
        "columns": 5,
        "rows": 5
       }
      },
      "text/html": [
       "<div>\n",
       "<style scoped>\n",
       "    .dataframe tbody tr th:only-of-type {\n",
       "        vertical-align: middle;\n",
       "    }\n",
       "\n",
       "    .dataframe tbody tr th {\n",
       "        vertical-align: top;\n",
       "    }\n",
       "\n",
       "    .dataframe thead th {\n",
       "        text-align: right;\n",
       "    }\n",
       "</style>\n",
       "<table border=\"1\" class=\"dataframe\">\n",
       "  <thead>\n",
       "    <tr style=\"text-align: right;\">\n",
       "      <th></th>\n",
       "      <th>Test1</th>\n",
       "      <th>Homeworks</th>\n",
       "      <th>Quizzes</th>\n",
       "      <th>Presentation</th>\n",
       "      <th>Fianl-Exam</th>\n",
       "    </tr>\n",
       "  </thead>\n",
       "  <tbody>\n",
       "    <tr>\n",
       "      <th>Test1</th>\n",
       "      <td>1.000000</td>\n",
       "      <td>0.528216</td>\n",
       "      <td>0.528979</td>\n",
       "      <td>0.589584</td>\n",
       "      <td>0.310255</td>\n",
       "    </tr>\n",
       "    <tr>\n",
       "      <th>Homeworks</th>\n",
       "      <td>0.528216</td>\n",
       "      <td>1.000000</td>\n",
       "      <td>0.433183</td>\n",
       "      <td>0.492705</td>\n",
       "      <td>0.123313</td>\n",
       "    </tr>\n",
       "    <tr>\n",
       "      <th>Quizzes</th>\n",
       "      <td>0.528979</td>\n",
       "      <td>0.433183</td>\n",
       "      <td>1.000000</td>\n",
       "      <td>0.587463</td>\n",
       "      <td>0.284523</td>\n",
       "    </tr>\n",
       "    <tr>\n",
       "      <th>Presentation</th>\n",
       "      <td>0.589584</td>\n",
       "      <td>0.492705</td>\n",
       "      <td>0.587463</td>\n",
       "      <td>1.000000</td>\n",
       "      <td>0.312244</td>\n",
       "    </tr>\n",
       "    <tr>\n",
       "      <th>Fianl-Exam</th>\n",
       "      <td>0.310255</td>\n",
       "      <td>0.123313</td>\n",
       "      <td>0.284523</td>\n",
       "      <td>0.312244</td>\n",
       "      <td>1.000000</td>\n",
       "    </tr>\n",
       "  </tbody>\n",
       "</table>\n",
       "</div>"
      ],
      "text/plain": [
       "                 Test1  Homeworks   Quizzes  Presentation  Fianl-Exam\n",
       "Test1         1.000000   0.528216  0.528979      0.589584    0.310255\n",
       "Homeworks     0.528216   1.000000  0.433183      0.492705    0.123313\n",
       "Quizzes       0.528979   0.433183  1.000000      0.587463    0.284523\n",
       "Presentation  0.589584   0.492705  0.587463      1.000000    0.312244\n",
       "Fianl-Exam    0.310255   0.123313  0.284523      0.312244    1.000000"
      ]
     },
     "execution_count": 23,
     "metadata": {},
     "output_type": "execute_result"
    }
   ],
   "source": [
    "cov_matrix"
   ]
  },
  {
   "cell_type": "code",
   "execution_count": 24,
   "id": "6e93e569",
   "metadata": {},
   "outputs": [
    {
     "data": {
      "text/plain": [
       "array([[ 1.87494422, -0.52796691, -0.37014608, -0.55338884, -0.23849744],\n",
       "       [-0.52796691,  1.532639  , -0.2122285 , -0.36583867,  0.14942443],\n",
       "       [-0.37014608, -0.2122285 ,  1.69928178, -0.62994886, -0.1457767 ],\n",
       "       [-0.55338884, -0.36583867, -0.62994886,  1.94229753, -0.21043177],\n",
       "       [-0.23849744,  0.14942443, -0.1457767 , -0.21043177,  1.16275181]])"
      ]
     },
     "execution_count": 24,
     "metadata": {},
     "output_type": "execute_result"
    }
   ],
   "source": [
    "# inverse of covariance matrix\n",
    "cov_matrix_inv = np.linalg.inv(cov_matrix)\n",
    "cov_matrix_inv"
   ]
  },
  {
   "cell_type": "markdown",
   "id": "0b6caef4",
   "metadata": {},
   "source": [
    "## 3b. 3 closest students to ref student via Mahalanobis Distance"
   ]
  },
  {
   "cell_type": "code",
   "execution_count": 25,
   "id": "24ffca79",
   "metadata": {},
   "outputs": [
    {
     "data": {
      "application/vnd.microsoft.datawrangler.viewer.v0+json": {
       "columns": [
        {
         "name": "index",
         "rawType": "int64",
         "type": "integer"
        },
        {
         "name": "Student ID",
         "rawType": "int64",
         "type": "integer"
        },
        {
         "name": "Mahalanobis Distance",
         "rawType": "float64",
         "type": "float"
        }
       ],
       "ref": "148949c4-820e-479f-ad6e-2a6ed3127007",
       "rows": [
        [
         "0",
         "1",
         "2.2952143744108953"
        ],
        [
         "1",
         "2",
         "1.3668866371171038"
        ],
        [
         "2",
         "3",
         "2.576486227085639"
        ],
        [
         "3",
         "4",
         "2.1287384260347904"
        ],
        [
         "4",
         "5",
         "2.6432838508960743"
        ],
        [
         "5",
         "6",
         "1.5467837376349882"
        ],
        [
         "6",
         "7",
         "1.4747771105330283"
        ],
        [
         "7",
         "8",
         "1.9941036595280275"
        ],
        [
         "8",
         "9",
         "4.351197949317385"
        ],
        [
         "9",
         "10",
         "1.1236978485525566"
        ],
        [
         "10",
         "11",
         "3.1061194641380268"
        ],
        [
         "11",
         "12",
         "3.744576973366241"
        ],
        [
         "12",
         "13",
         "1.9344253162668825"
        ],
        [
         "13",
         "14",
         "1.3336941303015253"
        ],
        [
         "14",
         "15",
         "2.191787202701237"
        ],
        [
         "15",
         "16",
         "2.706465517862457"
        ],
        [
         "16",
         "17",
         "2.6229631269677567"
        ],
        [
         "17",
         "18",
         "1.3588488809681132"
        ],
        [
         "18",
         "19",
         "2.697837935659923"
        ],
        [
         "19",
         "20",
         "3.0802634121097974"
        ],
        [
         "20",
         "21",
         "1.6838962984283832"
        ],
        [
         "21",
         "22",
         "3.3955086896124267"
        ],
        [
         "22",
         "23",
         "3.6999005757521974"
        ],
        [
         "23",
         "24",
         "3.169176098599341"
        ],
        [
         "24",
         "25",
         "3.5801162625159546"
        ],
        [
         "25",
         "26",
         "1.5320761695001606"
        ],
        [
         "26",
         "27",
         "2.2262929845469714"
        ],
        [
         "27",
         "29",
         "3.3989606709157036"
        ],
        [
         "28",
         "30",
         "3.4370913514917265"
        ]
       ],
       "shape": {
        "columns": 2,
        "rows": 29
       }
      },
      "text/html": [
       "<div>\n",
       "<style scoped>\n",
       "    .dataframe tbody tr th:only-of-type {\n",
       "        vertical-align: middle;\n",
       "    }\n",
       "\n",
       "    .dataframe tbody tr th {\n",
       "        vertical-align: top;\n",
       "    }\n",
       "\n",
       "    .dataframe thead th {\n",
       "        text-align: right;\n",
       "    }\n",
       "</style>\n",
       "<table border=\"1\" class=\"dataframe\">\n",
       "  <thead>\n",
       "    <tr style=\"text-align: right;\">\n",
       "      <th></th>\n",
       "      <th>Student ID</th>\n",
       "      <th>Mahalanobis Distance</th>\n",
       "    </tr>\n",
       "  </thead>\n",
       "  <tbody>\n",
       "    <tr>\n",
       "      <th>0</th>\n",
       "      <td>1</td>\n",
       "      <td>2.295214</td>\n",
       "    </tr>\n",
       "    <tr>\n",
       "      <th>1</th>\n",
       "      <td>2</td>\n",
       "      <td>1.366887</td>\n",
       "    </tr>\n",
       "    <tr>\n",
       "      <th>2</th>\n",
       "      <td>3</td>\n",
       "      <td>2.576486</td>\n",
       "    </tr>\n",
       "    <tr>\n",
       "      <th>3</th>\n",
       "      <td>4</td>\n",
       "      <td>2.128738</td>\n",
       "    </tr>\n",
       "    <tr>\n",
       "      <th>4</th>\n",
       "      <td>5</td>\n",
       "      <td>2.643284</td>\n",
       "    </tr>\n",
       "    <tr>\n",
       "      <th>5</th>\n",
       "      <td>6</td>\n",
       "      <td>1.546784</td>\n",
       "    </tr>\n",
       "    <tr>\n",
       "      <th>6</th>\n",
       "      <td>7</td>\n",
       "      <td>1.474777</td>\n",
       "    </tr>\n",
       "    <tr>\n",
       "      <th>7</th>\n",
       "      <td>8</td>\n",
       "      <td>1.994104</td>\n",
       "    </tr>\n",
       "    <tr>\n",
       "      <th>8</th>\n",
       "      <td>9</td>\n",
       "      <td>4.351198</td>\n",
       "    </tr>\n",
       "    <tr>\n",
       "      <th>9</th>\n",
       "      <td>10</td>\n",
       "      <td>1.123698</td>\n",
       "    </tr>\n",
       "    <tr>\n",
       "      <th>10</th>\n",
       "      <td>11</td>\n",
       "      <td>3.106119</td>\n",
       "    </tr>\n",
       "    <tr>\n",
       "      <th>11</th>\n",
       "      <td>12</td>\n",
       "      <td>3.744577</td>\n",
       "    </tr>\n",
       "    <tr>\n",
       "      <th>12</th>\n",
       "      <td>13</td>\n",
       "      <td>1.934425</td>\n",
       "    </tr>\n",
       "    <tr>\n",
       "      <th>13</th>\n",
       "      <td>14</td>\n",
       "      <td>1.333694</td>\n",
       "    </tr>\n",
       "    <tr>\n",
       "      <th>14</th>\n",
       "      <td>15</td>\n",
       "      <td>2.191787</td>\n",
       "    </tr>\n",
       "    <tr>\n",
       "      <th>15</th>\n",
       "      <td>16</td>\n",
       "      <td>2.706466</td>\n",
       "    </tr>\n",
       "    <tr>\n",
       "      <th>16</th>\n",
       "      <td>17</td>\n",
       "      <td>2.622963</td>\n",
       "    </tr>\n",
       "    <tr>\n",
       "      <th>17</th>\n",
       "      <td>18</td>\n",
       "      <td>1.358849</td>\n",
       "    </tr>\n",
       "    <tr>\n",
       "      <th>18</th>\n",
       "      <td>19</td>\n",
       "      <td>2.697838</td>\n",
       "    </tr>\n",
       "    <tr>\n",
       "      <th>19</th>\n",
       "      <td>20</td>\n",
       "      <td>3.080263</td>\n",
       "    </tr>\n",
       "    <tr>\n",
       "      <th>20</th>\n",
       "      <td>21</td>\n",
       "      <td>1.683896</td>\n",
       "    </tr>\n",
       "    <tr>\n",
       "      <th>21</th>\n",
       "      <td>22</td>\n",
       "      <td>3.395509</td>\n",
       "    </tr>\n",
       "    <tr>\n",
       "      <th>22</th>\n",
       "      <td>23</td>\n",
       "      <td>3.699901</td>\n",
       "    </tr>\n",
       "    <tr>\n",
       "      <th>23</th>\n",
       "      <td>24</td>\n",
       "      <td>3.169176</td>\n",
       "    </tr>\n",
       "    <tr>\n",
       "      <th>24</th>\n",
       "      <td>25</td>\n",
       "      <td>3.580116</td>\n",
       "    </tr>\n",
       "    <tr>\n",
       "      <th>25</th>\n",
       "      <td>26</td>\n",
       "      <td>1.532076</td>\n",
       "    </tr>\n",
       "    <tr>\n",
       "      <th>26</th>\n",
       "      <td>27</td>\n",
       "      <td>2.226293</td>\n",
       "    </tr>\n",
       "    <tr>\n",
       "      <th>27</th>\n",
       "      <td>29</td>\n",
       "      <td>3.398961</td>\n",
       "    </tr>\n",
       "    <tr>\n",
       "      <th>28</th>\n",
       "      <td>30</td>\n",
       "      <td>3.437091</td>\n",
       "    </tr>\n",
       "  </tbody>\n",
       "</table>\n",
       "</div>"
      ],
      "text/plain": [
       "    Student ID  Mahalanobis Distance\n",
       "0            1              2.295214\n",
       "1            2              1.366887\n",
       "2            3              2.576486\n",
       "3            4              2.128738\n",
       "4            5              2.643284\n",
       "5            6              1.546784\n",
       "6            7              1.474777\n",
       "7            8              1.994104\n",
       "8            9              4.351198\n",
       "9           10              1.123698\n",
       "10          11              3.106119\n",
       "11          12              3.744577\n",
       "12          13              1.934425\n",
       "13          14              1.333694\n",
       "14          15              2.191787\n",
       "15          16              2.706466\n",
       "16          17              2.622963\n",
       "17          18              1.358849\n",
       "18          19              2.697838\n",
       "19          20              3.080263\n",
       "20          21              1.683896\n",
       "21          22              3.395509\n",
       "22          23              3.699901\n",
       "23          24              3.169176\n",
       "24          25              3.580116\n",
       "25          26              1.532076\n",
       "26          27              2.226293\n",
       "27          29              3.398961\n",
       "28          30              3.437091"
      ]
     },
     "execution_count": 25,
     "metadata": {},
     "output_type": "execute_result"
    }
   ],
   "source": [
    "# calculate Mahalanobis distance to ref student\n",
    "from scipy.spatial import distance\n",
    "distances_mahalanobis = []\n",
    "ref_student = df_normalized_1.iloc[STUDENT_REF_ID-1].values\n",
    "for i in range(len(df_normalized_1)):\n",
    "    if i != STUDENT_REF_ID - 1:  # skip the reference student\n",
    "        dist = distance.mahalanobis(ref_student, df_normalized_1.iloc[i].values, cov_matrix_inv) # calculate Mahalanobis distance\n",
    "        distances_mahalanobis.append((i + 1, dist))  # store student ID (index + 1) and distance\n",
    "\n",
    "# to dataframe\n",
    "df_mahalanobis_distances = pd.DataFrame(distances_mahalanobis, columns=['Student ID', 'Mahalanobis Distance']) # store in DataFrame\n",
    "closest_student_mahalanobis = df_mahalanobis_distances.loc[df_mahalanobis_distances['Mahalanobis Distance'].idxmin()]\n",
    "df_mahalanobis_distances\n"
   ]
  },
  {
   "cell_type": "code",
   "execution_count": 26,
   "id": "a4fbb352",
   "metadata": {},
   "outputs": [
    {
     "name": "stdout",
     "output_type": "stream",
     "text": [
      "\n",
      "(*) Top 3 closest students to the reference student via Mahalanobis Distance:\n",
      "    Student ID: 10, Mahalanobis Distance: 1.1236978485525566\n",
      "    Student ID: 14, Mahalanobis Distance: 1.3336941303015253\n",
      "    Student ID: 18, Mahalanobis Distance: 1.3588488809681132\n"
     ]
    },
    {
     "data": {
      "application/vnd.microsoft.datawrangler.viewer.v0+json": {
       "columns": [
        {
         "name": "Student ID",
         "rawType": "int64",
         "type": "integer"
        },
        {
         "name": "Test1",
         "rawType": "float64",
         "type": "float"
        },
        {
         "name": "Homeworks",
         "rawType": "float64",
         "type": "float"
        },
        {
         "name": "Quizzes",
         "rawType": "float64",
         "type": "float"
        },
        {
         "name": "Presentation",
         "rawType": "float64",
         "type": "float"
        },
        {
         "name": "Fianl-Exam",
         "rawType": "float64",
         "type": "float"
        }
       ],
       "ref": "6e99ba32-3a72-4908-bd2b-80e213ae82a4",
       "rows": [
        [
         "10",
         "1.1948862513927734",
         "1.1346945715603605",
         "0.915380462580424",
         "0.38563966175427195",
         "0.29851391567676494"
        ],
        [
         "14",
         "-0.06288875007330362",
         "0.7913431882351795",
         "0.5333086173294646",
         "0.38563966175427195",
         "1.3906379974210277"
        ],
        [
         "18",
         "1.1948862513927734",
         "1.3308953620318924",
         "0.8198625012676842",
         "0.38563966175427195",
         "1.3906379974210277"
        ]
       ],
       "shape": {
        "columns": 5,
        "rows": 3
       }
      },
      "text/html": [
       "<div>\n",
       "<style scoped>\n",
       "    .dataframe tbody tr th:only-of-type {\n",
       "        vertical-align: middle;\n",
       "    }\n",
       "\n",
       "    .dataframe tbody tr th {\n",
       "        vertical-align: top;\n",
       "    }\n",
       "\n",
       "    .dataframe thead th {\n",
       "        text-align: right;\n",
       "    }\n",
       "</style>\n",
       "<table border=\"1\" class=\"dataframe\">\n",
       "  <thead>\n",
       "    <tr style=\"text-align: right;\">\n",
       "      <th></th>\n",
       "      <th>Test1</th>\n",
       "      <th>Homeworks</th>\n",
       "      <th>Quizzes</th>\n",
       "      <th>Presentation</th>\n",
       "      <th>Fianl-Exam</th>\n",
       "    </tr>\n",
       "    <tr>\n",
       "      <th>Student ID</th>\n",
       "      <th></th>\n",
       "      <th></th>\n",
       "      <th></th>\n",
       "      <th></th>\n",
       "      <th></th>\n",
       "    </tr>\n",
       "  </thead>\n",
       "  <tbody>\n",
       "    <tr>\n",
       "      <th>10</th>\n",
       "      <td>1.194886</td>\n",
       "      <td>1.134695</td>\n",
       "      <td>0.915380</td>\n",
       "      <td>0.38564</td>\n",
       "      <td>0.298514</td>\n",
       "    </tr>\n",
       "    <tr>\n",
       "      <th>14</th>\n",
       "      <td>-0.062889</td>\n",
       "      <td>0.791343</td>\n",
       "      <td>0.533309</td>\n",
       "      <td>0.38564</td>\n",
       "      <td>1.390638</td>\n",
       "    </tr>\n",
       "    <tr>\n",
       "      <th>18</th>\n",
       "      <td>1.194886</td>\n",
       "      <td>1.330895</td>\n",
       "      <td>0.819863</td>\n",
       "      <td>0.38564</td>\n",
       "      <td>1.390638</td>\n",
       "    </tr>\n",
       "  </tbody>\n",
       "</table>\n",
       "</div>"
      ],
      "text/plain": [
       "               Test1  Homeworks   Quizzes  Presentation  Fianl-Exam\n",
       "Student ID                                                         \n",
       "10          1.194886   1.134695  0.915380       0.38564    0.298514\n",
       "14         -0.062889   0.791343  0.533309       0.38564    1.390638\n",
       "18          1.194886   1.330895  0.819863       0.38564    1.390638"
      ]
     },
     "execution_count": 26,
     "metadata": {},
     "output_type": "execute_result"
    }
   ],
   "source": [
    "# top 3 closest students to the reference student via Euclidean Distance\n",
    "top_3_closest_mahalanobis = sorted(distances_mahalanobis, key=lambda x: x[1])[:3]\n",
    "print(\"\\n(*) Top 3 closest students to the reference student via Mahalanobis Distance:\")\n",
    "for student in top_3_closest_mahalanobis:\n",
    "    print(f\"    Student ID: {student[0]}, Mahalanobis Distance: {student[1]}\")\n",
    "\n",
    "# to dataframe\n",
    "df_top_3_closest_mahalanobis = pd.DataFrame(top_3_closest_mahalanobis, columns=['Student ID', 'Mahalanobis Distance'])  \n",
    "# df_top_3_closest_mahalanobis\n",
    "\n",
    "# score of top 3 closest students via Mahalanobis Distance\n",
    "df_top_3_closest_mahalanobis_scores = df_normalized_1.loc[[student_id - 1 for student_id, _ in top_3_closest_mahalanobis]]\n",
    "df_top_3_closest_mahalanobis_scores['Student ID'] = [student_id for student_id, _ in top_3_closest_mahalanobis]\n",
    "df_top_3_closest_mahalanobis_scores = df_top_3_closest_mahalanobis_scores.set_index('Student ID')\n",
    "df_top_3_closest_mahalanobis_scores"
   ]
  },
  {
   "cell_type": "markdown",
   "id": "6230f61b",
   "metadata": {},
   "source": [
    "## 3c. 3 furthest students from ref student via Mahalanobis Distance"
   ]
  },
  {
   "cell_type": "code",
   "execution_count": null,
   "id": "8f797ae7",
   "metadata": {},
   "outputs": [
    {
     "name": "stdout",
     "output_type": "stream",
     "text": [
      "\n",
      "(*) Top 3 furthest students from the reference student via Mahalanobis Distance:\n",
      "Student ID: 23, Distance: 3.6999\n",
      "Student ID: 12, Distance: 3.7446\n",
      "Student ID: 9, Distance: 4.3512\n"
     ]
    },
    {
     "data": {
      "application/vnd.microsoft.datawrangler.viewer.v0+json": {
       "columns": [
        {
         "name": "Student ID",
         "rawType": "int64",
         "type": "integer"
        },
        {
         "name": "Test1",
         "rawType": "float64",
         "type": "float"
        },
        {
         "name": "Homeworks",
         "rawType": "float64",
         "type": "float"
        },
        {
         "name": "Quizzes",
         "rawType": "float64",
         "type": "float"
        },
        {
         "name": "Presentation",
         "rawType": "float64",
         "type": "float"
        },
        {
         "name": "Fianl-Exam",
         "rawType": "float64",
         "type": "float"
        }
       ],
       "ref": "a5ba73d8-1600-46b9-8ec6-cc17dd303fe2",
       "rows": [
        [
         "23",
         "-2.421216877822198",
         "-1.1829272658846115",
         "-1.7591224541762924",
         "-2.5066578014027625",
         "0.7790485116442405"
        ],
        [
         "12",
         "-0.37733250043982286",
         "-1.7837921867036783",
         "1.106416385205904",
         "0.38563966175427195",
         "1.346953034151257"
        ],
        [
         "9",
         "-0.06288875007330362",
         "-2.004518075984152",
         "-1.4725685702380729",
         "-2.5066578014027625",
         "-0.2693906068302517"
        ]
       ],
       "shape": {
        "columns": 5,
        "rows": 3
       }
      },
      "text/html": [
       "<div>\n",
       "<style scoped>\n",
       "    .dataframe tbody tr th:only-of-type {\n",
       "        vertical-align: middle;\n",
       "    }\n",
       "\n",
       "    .dataframe tbody tr th {\n",
       "        vertical-align: top;\n",
       "    }\n",
       "\n",
       "    .dataframe thead th {\n",
       "        text-align: right;\n",
       "    }\n",
       "</style>\n",
       "<table border=\"1\" class=\"dataframe\">\n",
       "  <thead>\n",
       "    <tr style=\"text-align: right;\">\n",
       "      <th></th>\n",
       "      <th>Test1</th>\n",
       "      <th>Homeworks</th>\n",
       "      <th>Quizzes</th>\n",
       "      <th>Presentation</th>\n",
       "      <th>Fianl-Exam</th>\n",
       "    </tr>\n",
       "    <tr>\n",
       "      <th>Student ID</th>\n",
       "      <th></th>\n",
       "      <th></th>\n",
       "      <th></th>\n",
       "      <th></th>\n",
       "      <th></th>\n",
       "    </tr>\n",
       "  </thead>\n",
       "  <tbody>\n",
       "    <tr>\n",
       "      <th>23</th>\n",
       "      <td>-2.421217</td>\n",
       "      <td>-1.182927</td>\n",
       "      <td>-1.759122</td>\n",
       "      <td>-2.506658</td>\n",
       "      <td>0.779049</td>\n",
       "    </tr>\n",
       "    <tr>\n",
       "      <th>12</th>\n",
       "      <td>-0.377333</td>\n",
       "      <td>-1.783792</td>\n",
       "      <td>1.106416</td>\n",
       "      <td>0.385640</td>\n",
       "      <td>1.346953</td>\n",
       "    </tr>\n",
       "    <tr>\n",
       "      <th>9</th>\n",
       "      <td>-0.062889</td>\n",
       "      <td>-2.004518</td>\n",
       "      <td>-1.472569</td>\n",
       "      <td>-2.506658</td>\n",
       "      <td>-0.269391</td>\n",
       "    </tr>\n",
       "  </tbody>\n",
       "</table>\n",
       "</div>"
      ],
      "text/plain": [
       "               Test1  Homeworks   Quizzes  Presentation  Fianl-Exam\n",
       "Student ID                                                         \n",
       "23         -2.421217  -1.182927 -1.759122     -2.506658    0.779049\n",
       "12         -0.377333  -1.783792  1.106416      0.385640    1.346953\n",
       "9          -0.062889  -2.004518 -1.472569     -2.506658   -0.269391"
      ]
     },
     "execution_count": 27,
     "metadata": {},
     "output_type": "execute_result"
    }
   ],
   "source": [
    "# top 3 furthest students via Mahalanobis Distance\n",
    "top_3_farthest_mahalanobis = sorted(distances_mahalanobis, key=lambda x: x[1])[-3:]\n",
    "print(\"\\n(*) Top 3 furthest students from the reference student via Mahalanobis Distance:\")\n",
    "for student_id, dist in top_3_farthest_mahalanobis:\n",
    "    print(f\"Student ID: {student_id}, Distance: {dist:.4f}\")    \n",
    "\n",
    "# to dataframe\n",
    "df_top_3_farthest_mahalanobis = pd.DataFrame(top_3_farthest_mahalanobis, columns=['Student ID', 'Mahalanobis Distance'])\n",
    "# df_top_3_farthest_mahalanobis \n",
    "\n",
    "# score of top 3 furthest students via Mahalanobis Distance\n",
    "df_top_3_farthest_mahalanobis_scores = df_normalized_1.loc[[student_id - 1 for student_id, _ in top_3_farthest_mahalanobis]]\n",
    "df_top_3_farthest_mahalanobis_scores['Student ID'] = [student_id for student_id, _ in top_3_farthest_mahalanobis]\n",
    "df_top_3_farthest_mahalanobis_scores = df_top_3_farthest_mahalanobis_scores.set_index('Student ID')\n",
    "df_top_3_farthest_mahalanobis_scores"
   ]
  },
  {
   "cell_type": "markdown",
   "id": "068e935d",
   "metadata": {},
   "source": [
    "# Q4"
   ]
  },
  {
   "cell_type": "code",
   "execution_count": null,
   "id": "1d49d233",
   "metadata": {},
   "outputs": [
    {
     "data": {
      "application/vnd.microsoft.datawrangler.viewer.v0+json": {
       "columns": [
        {
         "name": "Student ID",
         "rawType": "int64",
         "type": "integer"
        },
        {
         "name": "Test1",
         "rawType": "float64",
         "type": "float"
        },
        {
         "name": "Homeworks",
         "rawType": "float64",
         "type": "float"
        },
        {
         "name": "Quizzes",
         "rawType": "float64",
         "type": "float"
        },
        {
         "name": "Presentation",
         "rawType": "float64",
         "type": "float"
        },
        {
         "name": "Fianl-Exam",
         "rawType": "float64",
         "type": "float"
        },
        {
         "name": "Method",
         "rawType": "object",
         "type": "string"
        }
       ],
       "ref": "b7789cd4-832b-49ba-9638-395c6060100b",
       "rows": [
        [
         "10",
         "1.1948862513927734",
         "1.1346945715603605",
         "0.915380462580424",
         "0.38563966175427195",
         "0.29851391567676494",
         "Euclidean"
        ],
        [
         "7",
         "0.7232206258429944",
         "0.22726591562952492",
         "0.4855496366730946",
         "0.38563966175427195",
         "0.8227334749140109",
         "Euclidean"
        ],
        [
         "26",
         "1.1948862513927734",
         "1.012069077515653",
         "0.29451371404761484",
         "0.38563966175427195",
         "1.1285282178024045",
         "Euclidean"
        ],
        [
         "10",
         "1.1948862513927734",
         "1.1346945715603605",
         "0.915380462580424",
         "0.38563966175427195",
         "0.29851391567676494",
         "Mahalanobis"
        ],
        [
         "14",
         "-0.06288875007330362",
         "0.7913431882351795",
         "0.5333086173294646",
         "0.38563966175427195",
         "1.3906379974210277",
         "Mahalanobis"
        ],
        [
         "18",
         "1.1948862513927734",
         "1.3308953620318924",
         "0.8198625012676842",
         "0.38563966175427195",
         "1.3906379974210277",
         "Mahalanobis"
        ]
       ],
       "shape": {
        "columns": 6,
        "rows": 6
       }
      },
      "text/html": [
       "<div>\n",
       "<style scoped>\n",
       "    .dataframe tbody tr th:only-of-type {\n",
       "        vertical-align: middle;\n",
       "    }\n",
       "\n",
       "    .dataframe tbody tr th {\n",
       "        vertical-align: top;\n",
       "    }\n",
       "\n",
       "    .dataframe thead th {\n",
       "        text-align: right;\n",
       "    }\n",
       "</style>\n",
       "<table border=\"1\" class=\"dataframe\">\n",
       "  <thead>\n",
       "    <tr style=\"text-align: right;\">\n",
       "      <th></th>\n",
       "      <th>Test1</th>\n",
       "      <th>Homeworks</th>\n",
       "      <th>Quizzes</th>\n",
       "      <th>Presentation</th>\n",
       "      <th>Fianl-Exam</th>\n",
       "      <th>Method</th>\n",
       "    </tr>\n",
       "    <tr>\n",
       "      <th>Student ID</th>\n",
       "      <th></th>\n",
       "      <th></th>\n",
       "      <th></th>\n",
       "      <th></th>\n",
       "      <th></th>\n",
       "      <th></th>\n",
       "    </tr>\n",
       "  </thead>\n",
       "  <tbody>\n",
       "    <tr>\n",
       "      <th>10</th>\n",
       "      <td>1.194886</td>\n",
       "      <td>1.134695</td>\n",
       "      <td>0.915380</td>\n",
       "      <td>0.38564</td>\n",
       "      <td>0.298514</td>\n",
       "      <td>Euclidean</td>\n",
       "    </tr>\n",
       "    <tr>\n",
       "      <th>7</th>\n",
       "      <td>0.723221</td>\n",
       "      <td>0.227266</td>\n",
       "      <td>0.485550</td>\n",
       "      <td>0.38564</td>\n",
       "      <td>0.822733</td>\n",
       "      <td>Euclidean</td>\n",
       "    </tr>\n",
       "    <tr>\n",
       "      <th>26</th>\n",
       "      <td>1.194886</td>\n",
       "      <td>1.012069</td>\n",
       "      <td>0.294514</td>\n",
       "      <td>0.38564</td>\n",
       "      <td>1.128528</td>\n",
       "      <td>Euclidean</td>\n",
       "    </tr>\n",
       "    <tr>\n",
       "      <th>10</th>\n",
       "      <td>1.194886</td>\n",
       "      <td>1.134695</td>\n",
       "      <td>0.915380</td>\n",
       "      <td>0.38564</td>\n",
       "      <td>0.298514</td>\n",
       "      <td>Mahalanobis</td>\n",
       "    </tr>\n",
       "    <tr>\n",
       "      <th>14</th>\n",
       "      <td>-0.062889</td>\n",
       "      <td>0.791343</td>\n",
       "      <td>0.533309</td>\n",
       "      <td>0.38564</td>\n",
       "      <td>1.390638</td>\n",
       "      <td>Mahalanobis</td>\n",
       "    </tr>\n",
       "    <tr>\n",
       "      <th>18</th>\n",
       "      <td>1.194886</td>\n",
       "      <td>1.330895</td>\n",
       "      <td>0.819863</td>\n",
       "      <td>0.38564</td>\n",
       "      <td>1.390638</td>\n",
       "      <td>Mahalanobis</td>\n",
       "    </tr>\n",
       "  </tbody>\n",
       "</table>\n",
       "</div>"
      ],
      "text/plain": [
       "               Test1  Homeworks   Quizzes  Presentation  Fianl-Exam  \\\n",
       "Student ID                                                            \n",
       "10          1.194886   1.134695  0.915380       0.38564    0.298514   \n",
       "7           0.723221   0.227266  0.485550       0.38564    0.822733   \n",
       "26          1.194886   1.012069  0.294514       0.38564    1.128528   \n",
       "10          1.194886   1.134695  0.915380       0.38564    0.298514   \n",
       "14         -0.062889   0.791343  0.533309       0.38564    1.390638   \n",
       "18          1.194886   1.330895  0.819863       0.38564    1.390638   \n",
       "\n",
       "                 Method  \n",
       "Student ID               \n",
       "10            Euclidean  \n",
       "7             Euclidean  \n",
       "26            Euclidean  \n",
       "10          Mahalanobis  \n",
       "14          Mahalanobis  \n",
       "18          Mahalanobis  "
      ]
     },
     "execution_count": 37,
     "metadata": {},
     "output_type": "execute_result"
    }
   ],
   "source": [
    "# Compare between set of 3 closest students computed using Euclidean and Mahalanobis Distance\n",
    "set_closest_euclidean = set(student_id for student_id, _ in top_3_closest_euclidean)\n",
    "set_closest_mahalanobis = set(student_id for student_id, _ in top_3_closest_mahalanobis)\\\n",
    "\n",
    "# append dataframes side by side to compare\n",
    "df_comparison_closest = pd.concat([\n",
    "    df_top_3_closest_euclidean_scores,\n",
    "    df_top_3_closest_mahalanobis_scores\n",
    "])\n",
    "# add column to indicate which method\n",
    "df_comparison_closest['Method'] = ['Euclidean'] * df_top_3_closest_euclidean_scores.shape[0] + ['Mahalanobis'] * df_top_3_closest_mahalanobis_scores.shape[0]\n",
    "df_comparison_closest"
   ]
  },
  {
   "cell_type": "code",
   "execution_count": 38,
   "id": "9a7959fd",
   "metadata": {},
   "outputs": [
    {
     "data": {
      "application/vnd.microsoft.datawrangler.viewer.v0+json": {
       "columns": [
        {
         "name": "Student ID",
         "rawType": "int64",
         "type": "integer"
        },
        {
         "name": "Test1",
         "rawType": "float64",
         "type": "float"
        },
        {
         "name": "Homeworks",
         "rawType": "float64",
         "type": "float"
        },
        {
         "name": "Quizzes",
         "rawType": "float64",
         "type": "float"
        },
        {
         "name": "Presentation",
         "rawType": "float64",
         "type": "float"
        },
        {
         "name": "Fianl-Exam",
         "rawType": "float64",
         "type": "float"
        },
        {
         "name": "Method",
         "rawType": "object",
         "type": "string"
        }
       ],
       "ref": "7f467571-fbc7-4fe1-8352-69dd6abb5e1e",
       "rows": [
        [
         "30",
         "-1.7923293770891593",
         "-0.8518384319639012",
         "-0.7084248797361539",
         "-2.5066578014027625",
         "-1.929419211081531",
         "Euclidean"
        ],
        [
         "23",
         "-2.421216877822198",
         "-1.1829272658846115",
         "-1.7591224541762924",
         "-2.5066578014027625",
         "0.7790485116442405",
         "Euclidean"
        ],
        [
         "29",
         "-1.6351075019058998",
         "-0.9008886295817842",
         "-1.9501583768017723",
         "-2.5066578014027625",
         "-1.7109943947326784",
         "Euclidean"
        ],
        [
         "23",
         "-2.421216877822198",
         "-1.1829272658846115",
         "-1.7591224541762924",
         "-2.5066578014027625",
         "0.7790485116442405",
         "Mahalanobis"
        ],
        [
         "12",
         "-0.37733250043982286",
         "-1.7837921867036783",
         "1.106416385205904",
         "0.38563966175427195",
         "1.346953034151257",
         "Mahalanobis"
        ],
        [
         "9",
         "-0.06288875007330362",
         "-2.004518075984152",
         "-1.4725685702380729",
         "-2.5066578014027625",
         "-0.2693906068302517",
         "Mahalanobis"
        ]
       ],
       "shape": {
        "columns": 6,
        "rows": 6
       }
      },
      "text/html": [
       "<div>\n",
       "<style scoped>\n",
       "    .dataframe tbody tr th:only-of-type {\n",
       "        vertical-align: middle;\n",
       "    }\n",
       "\n",
       "    .dataframe tbody tr th {\n",
       "        vertical-align: top;\n",
       "    }\n",
       "\n",
       "    .dataframe thead th {\n",
       "        text-align: right;\n",
       "    }\n",
       "</style>\n",
       "<table border=\"1\" class=\"dataframe\">\n",
       "  <thead>\n",
       "    <tr style=\"text-align: right;\">\n",
       "      <th></th>\n",
       "      <th>Test1</th>\n",
       "      <th>Homeworks</th>\n",
       "      <th>Quizzes</th>\n",
       "      <th>Presentation</th>\n",
       "      <th>Fianl-Exam</th>\n",
       "      <th>Method</th>\n",
       "    </tr>\n",
       "    <tr>\n",
       "      <th>Student ID</th>\n",
       "      <th></th>\n",
       "      <th></th>\n",
       "      <th></th>\n",
       "      <th></th>\n",
       "      <th></th>\n",
       "      <th></th>\n",
       "    </tr>\n",
       "  </thead>\n",
       "  <tbody>\n",
       "    <tr>\n",
       "      <th>30</th>\n",
       "      <td>-1.792329</td>\n",
       "      <td>-0.851838</td>\n",
       "      <td>-0.708425</td>\n",
       "      <td>-2.506658</td>\n",
       "      <td>-1.929419</td>\n",
       "      <td>Euclidean</td>\n",
       "    </tr>\n",
       "    <tr>\n",
       "      <th>23</th>\n",
       "      <td>-2.421217</td>\n",
       "      <td>-1.182927</td>\n",
       "      <td>-1.759122</td>\n",
       "      <td>-2.506658</td>\n",
       "      <td>0.779049</td>\n",
       "      <td>Euclidean</td>\n",
       "    </tr>\n",
       "    <tr>\n",
       "      <th>29</th>\n",
       "      <td>-1.635108</td>\n",
       "      <td>-0.900889</td>\n",
       "      <td>-1.950158</td>\n",
       "      <td>-2.506658</td>\n",
       "      <td>-1.710994</td>\n",
       "      <td>Euclidean</td>\n",
       "    </tr>\n",
       "    <tr>\n",
       "      <th>23</th>\n",
       "      <td>-2.421217</td>\n",
       "      <td>-1.182927</td>\n",
       "      <td>-1.759122</td>\n",
       "      <td>-2.506658</td>\n",
       "      <td>0.779049</td>\n",
       "      <td>Mahalanobis</td>\n",
       "    </tr>\n",
       "    <tr>\n",
       "      <th>12</th>\n",
       "      <td>-0.377333</td>\n",
       "      <td>-1.783792</td>\n",
       "      <td>1.106416</td>\n",
       "      <td>0.385640</td>\n",
       "      <td>1.346953</td>\n",
       "      <td>Mahalanobis</td>\n",
       "    </tr>\n",
       "    <tr>\n",
       "      <th>9</th>\n",
       "      <td>-0.062889</td>\n",
       "      <td>-2.004518</td>\n",
       "      <td>-1.472569</td>\n",
       "      <td>-2.506658</td>\n",
       "      <td>-0.269391</td>\n",
       "      <td>Mahalanobis</td>\n",
       "    </tr>\n",
       "  </tbody>\n",
       "</table>\n",
       "</div>"
      ],
      "text/plain": [
       "               Test1  Homeworks   Quizzes  Presentation  Fianl-Exam  \\\n",
       "Student ID                                                            \n",
       "30         -1.792329  -0.851838 -0.708425     -2.506658   -1.929419   \n",
       "23         -2.421217  -1.182927 -1.759122     -2.506658    0.779049   \n",
       "29         -1.635108  -0.900889 -1.950158     -2.506658   -1.710994   \n",
       "23         -2.421217  -1.182927 -1.759122     -2.506658    0.779049   \n",
       "12         -0.377333  -1.783792  1.106416      0.385640    1.346953   \n",
       "9          -0.062889  -2.004518 -1.472569     -2.506658   -0.269391   \n",
       "\n",
       "                 Method  \n",
       "Student ID               \n",
       "30            Euclidean  \n",
       "23            Euclidean  \n",
       "29            Euclidean  \n",
       "23          Mahalanobis  \n",
       "12          Mahalanobis  \n",
       "9           Mahalanobis  "
      ]
     },
     "execution_count": 38,
     "metadata": {},
     "output_type": "execute_result"
    }
   ],
   "source": [
    "# compare between set of 3 farthest students computed using Euclidean and Mahalanobis Distance\n",
    "set_farthest_euclidean = set(student_id for student_id, _ in top_3_farthest_euclidean)\n",
    "set_farthest_mahalanobis = set(student_id for student_id, _ in top_3_farthest_mahalanobis)\n",
    "\n",
    "# append dataframes side by side to compare\n",
    "df_comparison_farthest = pd.concat([\n",
    "    df_top_3_farthest_euclidean_scores,\n",
    "    df_top_3_farthest_mahalanobis_scores\n",
    "])\n",
    "\n",
    "# add column to indicate which method\n",
    "df_comparison_farthest['Method'] = ['Euclidean'] * df_top_3_farthest_euclidean_scores.shape[0] + ['Mahalanobis'] * df_top_3_farthest_mahalanobis_scores.shape[0]\n",
    "df_comparison_farthest"
   ]
  },
  {
   "cell_type": "code",
   "execution_count": null,
   "id": "002a0c1a",
   "metadata": {},
   "outputs": [
    {
     "data": {
      "image/png": "[encoded data removed]",
      "text/plain": [
       "<Figure size 1000x600 with 1 Axes>"
      ]
     },
     "metadata": {},
     "output_type": "display_data"
    }
   ],
   "source": [
    "# plot the student scores on PC1 vs PC2. \n",
    "import matplotlib.pyplot as plt\n",
    "plt.figure(figsize=(10, 6))\n",
    "plt.scatter(df_normalized_1.iloc[:, 0], df_normalized_1.iloc[:, 1], alpha=0.6)\n",
    "plt.scatter(ref_student[0], ref_student[1], color='red', label='Reference Student', s=100)\n",
    "for i in range(len(df_normalized_1)):\n",
    "    plt.text(df_normalized_1.iloc[i, 0], df_normalized_1.iloc[i, 1], str(i+1), fontsize=8, ha='right', va='bottom')\n",
    "plt.xlabel('PC1')\n",
    "plt.ylabel('PC2')   \n",
    "plt.title('Student Scores on PC1 vs PC2')\n",
    "plt.legend()\n",
    "plt.grid()\n",
    "plt.show()"
   ]
  },
  {
   "cell_type": "code",
   "execution_count": 49,
   "id": "bcd60778",
   "metadata": {},
   "outputs": [
    {
     "name": "stdout",
     "output_type": "stream",
     "text": [
      "First student data: Test1            41.0\n",
      "Homeworks       244.0\n",
      "Quizzes         136.0\n",
      "Presentation     50.0\n",
      "Fianl-Exam       90.0\n",
      "Name: 0, dtype: float64\n",
      "Middle student data: Test1            40.0\n",
      "Homeworks       295.0\n",
      "Quizzes         131.0\n",
      "Presentation     50.0\n",
      "Fianl-Exam       44.0\n",
      "Name: 14, dtype: float64\n",
      "Last student data: Test1            31.0\n",
      "Homeworks       222.0\n",
      "Quizzes         100.0\n",
      "Presentation     40.0\n",
      "Fianl-Exam       24.0\n",
      "Name: 29, dtype: float64\n"
     ]
    },
    {
     "data": {
      "application/vnd.microsoft.datawrangler.viewer.v0+json": {
       "columns": [
        {
         "name": "index",
         "rawType": "object",
         "type": "string"
        },
        {
         "name": "Test1",
         "rawType": "float64",
         "type": "float"
        },
        {
         "name": "Homeworks",
         "rawType": "float64",
         "type": "float"
        },
        {
         "name": "Quizzes",
         "rawType": "float64",
         "type": "float"
        },
        {
         "name": "Presentation",
         "rawType": "float64",
         "type": "float"
        },
        {
         "name": "Fianl-Exam",
         "rawType": "float64",
         "type": "float"
        }
       ],
       "ref": "74e65cc5-4efd-4b15-abd2-04d984c7be51",
       "rows": [
        [
         "First Student",
         "41.0",
         "244.0",
         "136.0",
         "50.0",
         "90.0"
        ],
        [
         "Middle Student",
         "40.0",
         "295.0",
         "131.0",
         "50.0",
         "44.0"
        ],
        [
         "Last Student",
         "31.0",
         "222.0",
         "100.0",
         "40.0",
         "24.0"
        ]
       ],
       "shape": {
        "columns": 5,
        "rows": 3
       }
      },
      "text/html": [
       "<div>\n",
       "<style scoped>\n",
       "    .dataframe tbody tr th:only-of-type {\n",
       "        vertical-align: middle;\n",
       "    }\n",
       "\n",
       "    .dataframe tbody tr th {\n",
       "        vertical-align: top;\n",
       "    }\n",
       "\n",
       "    .dataframe thead th {\n",
       "        text-align: right;\n",
       "    }\n",
       "</style>\n",
       "<table border=\"1\" class=\"dataframe\">\n",
       "  <thead>\n",
       "    <tr style=\"text-align: right;\">\n",
       "      <th></th>\n",
       "      <th>Test1</th>\n",
       "      <th>Homeworks</th>\n",
       "      <th>Quizzes</th>\n",
       "      <th>Presentation</th>\n",
       "      <th>Fianl-Exam</th>\n",
       "    </tr>\n",
       "  </thead>\n",
       "  <tbody>\n",
       "    <tr>\n",
       "      <th>First Student</th>\n",
       "      <td>41.0</td>\n",
       "      <td>244.0</td>\n",
       "      <td>136.0</td>\n",
       "      <td>50.0</td>\n",
       "      <td>90.0</td>\n",
       "    </tr>\n",
       "    <tr>\n",
       "      <th>Middle Student</th>\n",
       "      <td>40.0</td>\n",
       "      <td>295.0</td>\n",
       "      <td>131.0</td>\n",
       "      <td>50.0</td>\n",
       "      <td>44.0</td>\n",
       "    </tr>\n",
       "    <tr>\n",
       "      <th>Last Student</th>\n",
       "      <td>31.0</td>\n",
       "      <td>222.0</td>\n",
       "      <td>100.0</td>\n",
       "      <td>40.0</td>\n",
       "      <td>24.0</td>\n",
       "    </tr>\n",
       "  </tbody>\n",
       "</table>\n",
       "</div>"
      ],
      "text/plain": [
       "                Test1  Homeworks  Quizzes  Presentation  Fianl-Exam\n",
       "First Student    41.0      244.0    136.0          50.0        90.0\n",
       "Middle Student   40.0      295.0    131.0          50.0        44.0\n",
       "Last Student     31.0      222.0    100.0          40.0        24.0"
      ]
     },
     "execution_count": 49,
     "metadata": {},
     "output_type": "execute_result"
    }
   ],
   "source": [
    "# first and last student\n",
    "print(\"First student data:\", df.iloc[0, :])\n",
    "print(\"Middle student data:\", df.iloc[14, :])\n",
    "print(\"Last student data:\", df.iloc[-1, :])\n",
    "# to dataframe\n",
    "df_first_last = pd.DataFrame({\n",
    "    'First Student': df.iloc[0, :],\n",
    "    'Middle Student': df.iloc[14, :],\n",
    "    'Last Student': df.iloc[-1, :]\n",
    "}).T\n",
    "df_first_last"
   ]
  },
  {
   "cell_type": "code",
   "execution_count": null,
   "id": "65d7722e",
   "metadata": {},
   "outputs": [],
   "source": []
  }
 ],
 "metadata": {
  "kernelspec": {
   "display_name": "hw1",
   "language": "python",
   "name": "python3"
  },
  "language_info": {
   "codemirror_mode": {
    "name": "ipython",
    "version": 3
   },
   "file_extension": ".py",
   "mimetype": "text/x-python",
   "name": "python",
   "nbconvert_exporter": "python",
   "pygments_lexer": "ipython3",
   "version": "3.13.7"
  }
 },
 "nbformat": 4,
 "nbformat_minor": 5
}
