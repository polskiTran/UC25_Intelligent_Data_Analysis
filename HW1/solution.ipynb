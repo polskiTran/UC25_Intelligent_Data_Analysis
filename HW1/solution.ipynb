{
 "cells": [
  {
   "cell_type": "code",
   "execution_count": 2,
   "id": "b16e095a",
   "metadata": {},
   "outputs": [],
   "source": [
    "import pandas as pd\n",
    "import numpy as np\n"
   ]
  },
  {
   "cell_type": "code",
   "execution_count": 3,
   "id": "e056bcdc",
   "metadata": {},
   "outputs": [
    {
     "data": {
      "application/vnd.microsoft.datawrangler.viewer.v0+json": {
       "columns": [
        {
         "name": "index",
         "rawType": "int64",
         "type": "integer"
        },
        {
         "name": "Student ID",
         "rawType": "object",
         "type": "unknown"
        },
        {
         "name": "Test1",
         "rawType": "object",
         "type": "unknown"
        },
        {
         "name": "Homeworks",
         "rawType": "object",
         "type": "unknown"
        },
        {
         "name": "Quizzes",
         "rawType": "object",
         "type": "unknown"
        },
        {
         "name": "Presentation",
         "rawType": "float64",
         "type": "float"
        },
        {
         "name": "Fianl-Exam",
         "rawType": "object",
         "type": "unknown"
        }
       ],
       "ref": "595a1f2c-78de-4241-8dc3-2af862631c52",
       "rows": [
        [
         "0",
         null,
         "Max:50",
         "Max:400",
         "Max:140",
         null,
         "Max:100"
        ],
        [
         "1",
         null,
         null,
         null,
         null,
         null,
         null
        ],
        [
         "2",
         "S1",
         "41",
         "244",
         "136",
         "50.0",
         "90"
        ],
        [
         "3",
         "S2",
         "50",
         "400",
         "140",
         "50.0",
         "100"
        ],
        [
         "4",
         "S3",
         "43",
         "327",
         "88",
         "50.0",
         "79"
        ]
       ],
       "shape": {
        "columns": 6,
        "rows": 5
       }
      },
      "text/html": [
       "<div>\n",
       "<style scoped>\n",
       "    .dataframe tbody tr th:only-of-type {\n",
       "        vertical-align: middle;\n",
       "    }\n",
       "\n",
       "    .dataframe tbody tr th {\n",
       "        vertical-align: top;\n",
       "    }\n",
       "\n",
       "    .dataframe thead th {\n",
       "        text-align: right;\n",
       "    }\n",
       "</style>\n",
       "<table border=\"1\" class=\"dataframe\">\n",
       "  <thead>\n",
       "    <tr style=\"text-align: right;\">\n",
       "      <th></th>\n",
       "      <th>Student ID</th>\n",
       "      <th>Test1</th>\n",
       "      <th>Homeworks</th>\n",
       "      <th>Quizzes</th>\n",
       "      <th>Presentation</th>\n",
       "      <th>Fianl-Exam</th>\n",
       "    </tr>\n",
       "  </thead>\n",
       "  <tbody>\n",
       "    <tr>\n",
       "      <th>0</th>\n",
       "      <td>NaN</td>\n",
       "      <td>Max:50</td>\n",
       "      <td>Max:400</td>\n",
       "      <td>Max:140</td>\n",
       "      <td>NaN</td>\n",
       "      <td>Max:100</td>\n",
       "    </tr>\n",
       "    <tr>\n",
       "      <th>1</th>\n",
       "      <td>NaN</td>\n",
       "      <td>NaN</td>\n",
       "      <td>NaN</td>\n",
       "      <td>NaN</td>\n",
       "      <td>NaN</td>\n",
       "      <td>NaN</td>\n",
       "    </tr>\n",
       "    <tr>\n",
       "      <th>2</th>\n",
       "      <td>S1</td>\n",
       "      <td>41</td>\n",
       "      <td>244</td>\n",
       "      <td>136</td>\n",
       "      <td>50.0</td>\n",
       "      <td>90</td>\n",
       "    </tr>\n",
       "    <tr>\n",
       "      <th>3</th>\n",
       "      <td>S2</td>\n",
       "      <td>50</td>\n",
       "      <td>400</td>\n",
       "      <td>140</td>\n",
       "      <td>50.0</td>\n",
       "      <td>100</td>\n",
       "    </tr>\n",
       "    <tr>\n",
       "      <th>4</th>\n",
       "      <td>S3</td>\n",
       "      <td>43</td>\n",
       "      <td>327</td>\n",
       "      <td>88</td>\n",
       "      <td>50.0</td>\n",
       "      <td>79</td>\n",
       "    </tr>\n",
       "  </tbody>\n",
       "</table>\n",
       "</div>"
      ],
      "text/plain": [
       "  Student ID   Test1 Homeworks  Quizzes  Presentation Fianl-Exam\n",
       "0        NaN  Max:50   Max:400  Max:140           NaN    Max:100\n",
       "1        NaN     NaN       NaN      NaN           NaN        NaN\n",
       "2         S1      41       244      136          50.0         90\n",
       "3         S2      50       400      140          50.0        100\n",
       "4         S3      43       327       88          50.0         79"
      ]
     },
     "execution_count": 3,
     "metadata": {},
     "output_type": "execute_result"
    }
   ],
   "source": [
    "df = pd.read_csv('data/HW1-Data.csv')\n",
    "df.head()"
   ]
  },
  {
   "cell_type": "code",
   "execution_count": 4,
   "id": "c0f8ff81",
   "metadata": {},
   "outputs": [
    {
     "data": {
      "application/vnd.microsoft.datawrangler.viewer.v0+json": {
       "columns": [
        {
         "name": "index",
         "rawType": "int64",
         "type": "integer"
        },
        {
         "name": "Student ID",
         "rawType": "object",
         "type": "string"
        },
        {
         "name": "Test1",
         "rawType": "object",
         "type": "string"
        },
        {
         "name": "Homeworks",
         "rawType": "object",
         "type": "string"
        },
        {
         "name": "Quizzes",
         "rawType": "object",
         "type": "string"
        },
        {
         "name": "Presentation",
         "rawType": "float64",
         "type": "float"
        },
        {
         "name": "Fianl-Exam",
         "rawType": "object",
         "type": "string"
        }
       ],
       "ref": "82e12045-6ebf-4052-83a6-657e804098aa",
       "rows": [
        [
         "0",
         "S1",
         "41",
         "244",
         "136",
         "50.0",
         "90"
        ],
        [
         "1",
         "S2",
         "50",
         "400",
         "140",
         "50.0",
         "100"
        ],
        [
         "2",
         "S3",
         "43",
         "327",
         "88",
         "50.0",
         "79"
        ],
        [
         "3",
         "S4",
         "43",
         "336",
         "123",
         "50.0",
         "35"
        ],
        [
         "4",
         "S5",
         "41",
         "232",
         "100",
         "50.0",
         "79"
        ]
       ],
       "shape": {
        "columns": 6,
        "rows": 5
       }
      },
      "text/html": [
       "<div>\n",
       "<style scoped>\n",
       "    .dataframe tbody tr th:only-of-type {\n",
       "        vertical-align: middle;\n",
       "    }\n",
       "\n",
       "    .dataframe tbody tr th {\n",
       "        vertical-align: top;\n",
       "    }\n",
       "\n",
       "    .dataframe thead th {\n",
       "        text-align: right;\n",
       "    }\n",
       "</style>\n",
       "<table border=\"1\" class=\"dataframe\">\n",
       "  <thead>\n",
       "    <tr style=\"text-align: right;\">\n",
       "      <th></th>\n",
       "      <th>Student ID</th>\n",
       "      <th>Test1</th>\n",
       "      <th>Homeworks</th>\n",
       "      <th>Quizzes</th>\n",
       "      <th>Presentation</th>\n",
       "      <th>Fianl-Exam</th>\n",
       "    </tr>\n",
       "  </thead>\n",
       "  <tbody>\n",
       "    <tr>\n",
       "      <th>0</th>\n",
       "      <td>S1</td>\n",
       "      <td>41</td>\n",
       "      <td>244</td>\n",
       "      <td>136</td>\n",
       "      <td>50.0</td>\n",
       "      <td>90</td>\n",
       "    </tr>\n",
       "    <tr>\n",
       "      <th>1</th>\n",
       "      <td>S2</td>\n",
       "      <td>50</td>\n",
       "      <td>400</td>\n",
       "      <td>140</td>\n",
       "      <td>50.0</td>\n",
       "      <td>100</td>\n",
       "    </tr>\n",
       "    <tr>\n",
       "      <th>2</th>\n",
       "      <td>S3</td>\n",
       "      <td>43</td>\n",
       "      <td>327</td>\n",
       "      <td>88</td>\n",
       "      <td>50.0</td>\n",
       "      <td>79</td>\n",
       "    </tr>\n",
       "    <tr>\n",
       "      <th>3</th>\n",
       "      <td>S4</td>\n",
       "      <td>43</td>\n",
       "      <td>336</td>\n",
       "      <td>123</td>\n",
       "      <td>50.0</td>\n",
       "      <td>35</td>\n",
       "    </tr>\n",
       "    <tr>\n",
       "      <th>4</th>\n",
       "      <td>S5</td>\n",
       "      <td>41</td>\n",
       "      <td>232</td>\n",
       "      <td>100</td>\n",
       "      <td>50.0</td>\n",
       "      <td>79</td>\n",
       "    </tr>\n",
       "  </tbody>\n",
       "</table>\n",
       "</div>"
      ],
      "text/plain": [
       "  Student ID Test1 Homeworks Quizzes  Presentation Fianl-Exam\n",
       "0         S1    41       244     136          50.0         90\n",
       "1         S2    50       400     140          50.0        100\n",
       "2         S3    43       327      88          50.0         79\n",
       "3         S4    43       336     123          50.0         35\n",
       "4         S5    41       232     100          50.0         79"
      ]
     },
     "execution_count": 4,
     "metadata": {},
     "output_type": "execute_result"
    }
   ],
   "source": [
    "# drop first 2 rows and start from index 0\n",
    "df = df.drop(index=[0, 1])\n",
    "df = df.reset_index(drop=True)\n",
    "df.head()"
   ]
  },
  {
   "cell_type": "code",
   "execution_count": 5,
   "id": "9f5d4677",
   "metadata": {},
   "outputs": [
    {
     "data": {
      "application/vnd.microsoft.datawrangler.viewer.v0+json": {
       "columns": [
        {
         "name": "index",
         "rawType": "int64",
         "type": "integer"
        },
        {
         "name": "Test1",
         "rawType": "object",
         "type": "string"
        },
        {
         "name": "Homeworks",
         "rawType": "object",
         "type": "string"
        },
        {
         "name": "Quizzes",
         "rawType": "object",
         "type": "string"
        },
        {
         "name": "Presentation",
         "rawType": "float64",
         "type": "float"
        },
        {
         "name": "Fianl-Exam",
         "rawType": "object",
         "type": "string"
        }
       ],
       "ref": "8aae6790-16e7-4c46-9bdc-b8442f53d3ce",
       "rows": [
        [
         "0",
         "41",
         "244",
         "136",
         "50.0",
         "90"
        ],
        [
         "1",
         "50",
         "400",
         "140",
         "50.0",
         "100"
        ],
        [
         "2",
         "43",
         "327",
         "88",
         "50.0",
         "79"
        ],
        [
         "3",
         "43",
         "336",
         "123",
         "50.0",
         "35"
        ],
        [
         "4",
         "41",
         "232",
         "100",
         "50.0",
         "79"
        ]
       ],
       "shape": {
        "columns": 5,
        "rows": 5
       }
      },
      "text/html": [
       "<div>\n",
       "<style scoped>\n",
       "    .dataframe tbody tr th:only-of-type {\n",
       "        vertical-align: middle;\n",
       "    }\n",
       "\n",
       "    .dataframe tbody tr th {\n",
       "        vertical-align: top;\n",
       "    }\n",
       "\n",
       "    .dataframe thead th {\n",
       "        text-align: right;\n",
       "    }\n",
       "</style>\n",
       "<table border=\"1\" class=\"dataframe\">\n",
       "  <thead>\n",
       "    <tr style=\"text-align: right;\">\n",
       "      <th></th>\n",
       "      <th>Test1</th>\n",
       "      <th>Homeworks</th>\n",
       "      <th>Quizzes</th>\n",
       "      <th>Presentation</th>\n",
       "      <th>Fianl-Exam</th>\n",
       "    </tr>\n",
       "  </thead>\n",
       "  <tbody>\n",
       "    <tr>\n",
       "      <th>0</th>\n",
       "      <td>41</td>\n",
       "      <td>244</td>\n",
       "      <td>136</td>\n",
       "      <td>50.0</td>\n",
       "      <td>90</td>\n",
       "    </tr>\n",
       "    <tr>\n",
       "      <th>1</th>\n",
       "      <td>50</td>\n",
       "      <td>400</td>\n",
       "      <td>140</td>\n",
       "      <td>50.0</td>\n",
       "      <td>100</td>\n",
       "    </tr>\n",
       "    <tr>\n",
       "      <th>2</th>\n",
       "      <td>43</td>\n",
       "      <td>327</td>\n",
       "      <td>88</td>\n",
       "      <td>50.0</td>\n",
       "      <td>79</td>\n",
       "    </tr>\n",
       "    <tr>\n",
       "      <th>3</th>\n",
       "      <td>43</td>\n",
       "      <td>336</td>\n",
       "      <td>123</td>\n",
       "      <td>50.0</td>\n",
       "      <td>35</td>\n",
       "    </tr>\n",
       "    <tr>\n",
       "      <th>4</th>\n",
       "      <td>41</td>\n",
       "      <td>232</td>\n",
       "      <td>100</td>\n",
       "      <td>50.0</td>\n",
       "      <td>79</td>\n",
       "    </tr>\n",
       "  </tbody>\n",
       "</table>\n",
       "</div>"
      ],
      "text/plain": [
       "  Test1 Homeworks Quizzes  Presentation Fianl-Exam\n",
       "0    41       244     136          50.0         90\n",
       "1    50       400     140          50.0        100\n",
       "2    43       327      88          50.0         79\n",
       "3    43       336     123          50.0         35\n",
       "4    41       232     100          50.0         79"
      ]
     },
     "execution_count": 5,
     "metadata": {},
     "output_type": "execute_result"
    }
   ],
   "source": [
    "# drop Student ID since studentID = index + 1\n",
    "df = df.drop(columns=['Student ID'])\n",
    "df.head()"
   ]
  },
  {
   "cell_type": "code",
   "execution_count": 6,
   "id": "eff17845",
   "metadata": {},
   "outputs": [],
   "source": [
    "# convert all columns to float\n",
    "for col in df.columns:\n",
    "    df[col] = df[col].astype(float)"
   ]
  },
  {
   "cell_type": "markdown",
   "id": "b73cc27a",
   "metadata": {},
   "source": [
    "# Q1"
   ]
  },
  {
   "cell_type": "markdown",
   "id": "7a91ef7e",
   "metadata": {},
   "source": [
    "## 1b. Get student reference ID"
   ]
  },
  {
   "cell_type": "code",
   "execution_count": 7,
   "id": "7f0cf1de",
   "metadata": {},
   "outputs": [
    {
     "name": "stdout",
     "output_type": "stream",
     "text": [
      "Student Reference ID: 28\n"
     ]
    }
   ],
   "source": [
    "M_NUMBER_LAST_THREE_DIGITS = 830\n",
    "STUDENT_REF_ID = (M_NUMBER_LAST_THREE_DIGITS % 26 ) + 4\n",
    "print(f\"Student Reference ID: {STUDENT_REF_ID}\")"
   ]
  },
  {
   "cell_type": "markdown",
   "id": "8a2ff312",
   "metadata": {},
   "source": [
    "## 1b. Standardize"
   ]
  },
  {
   "cell_type": "code",
   "execution_count": 8,
   "id": "9fc3744f",
   "metadata": {},
   "outputs": [
    {
     "name": "stdout",
     "output_type": "stream",
     "text": [
      "(*) Means and standard deviation of each column:\n",
      "    Test1: 42.40 ± 6.36\n",
      "    Homeworks: 291.47 ± 81.55\n",
      "    Quizzes: 114.83 ± 20.94\n",
      "    Presentation: 48.67 ± 3.46\n",
      "    Fianl-Exam: 68.17 ± 22.89\n"
     ]
    }
   ],
   "source": [
    "# calculate mean and standard deviation\n",
    "means = []\n",
    "std_devs = []\n",
    "\n",
    "for col in df.columns:\n",
    "    mean = df[col].astype(float).mean()\n",
    "    std_dev = df[col].astype(float).std()\n",
    "    means.append(mean)\n",
    "    std_devs.append(std_dev)\n",
    "\n",
    "print(\"(*) Means and standard deviation of each column:\")\n",
    "for col, mean, std_dev in zip(df.columns, means, std_devs):\n",
    "    print(f\"    {col}: {mean:2.2f} ± {std_dev:2.2f}\")"
   ]
  },
  {
   "cell_type": "code",
   "execution_count": 9,
   "id": "ac2a084a",
   "metadata": {},
   "outputs": [
    {
     "data": {
      "application/vnd.microsoft.datawrangler.viewer.v0+json": {
       "columns": [
        {
         "name": "index",
         "rawType": "int64",
         "type": "integer"
        },
        {
         "name": "Test1",
         "rawType": "float64",
         "type": "float"
        },
        {
         "name": "Homeworks",
         "rawType": "float64",
         "type": "float"
        },
        {
         "name": "Quizzes",
         "rawType": "float64",
         "type": "float"
        },
        {
         "name": "Presentation",
         "rawType": "float64",
         "type": "float"
        },
        {
         "name": "Fianl-Exam",
         "rawType": "float64",
         "type": "float"
        }
       ],
       "ref": "3e71f6ee-54d8-45d9-b5a0-6235af802227",
       "rows": [
        [
         "0",
         "-0.22011062525656322",
         "-0.5820623450655447",
         "1.010898423893164",
         "0.38563966175427195",
         "0.9537883647233225"
        ],
        [
         "1",
         "1.1948862513927734",
         "1.3308953620318924",
         "1.2019343465186436",
         "0.38563966175427195",
         "1.3906379974210277"
        ],
        [
         "2",
         "0.09433312510995599",
         "0.43572925550552766",
         "-1.2815326476125932",
         "0.38563966175427195",
         "0.47325376875584696"
        ],
        [
         "3",
         "0.09433312510995599",
         "0.5460922001457644",
         "0.3900316753603547",
         "0.38563966175427195",
         "-1.4488846151140553"
        ],
        [
         "4",
         "-0.22011062525656322",
         "-0.7292129379191936",
         "-0.7084248797361539",
         "0.38563966175427195",
         "0.47325376875584696"
        ]
       ],
       "shape": {
        "columns": 5,
        "rows": 5
       }
      },
      "text/html": [
       "<div>\n",
       "<style scoped>\n",
       "    .dataframe tbody tr th:only-of-type {\n",
       "        vertical-align: middle;\n",
       "    }\n",
       "\n",
       "    .dataframe tbody tr th {\n",
       "        vertical-align: top;\n",
       "    }\n",
       "\n",
       "    .dataframe thead th {\n",
       "        text-align: right;\n",
       "    }\n",
       "</style>\n",
       "<table border=\"1\" class=\"dataframe\">\n",
       "  <thead>\n",
       "    <tr style=\"text-align: right;\">\n",
       "      <th></th>\n",
       "      <th>Test1</th>\n",
       "      <th>Homeworks</th>\n",
       "      <th>Quizzes</th>\n",
       "      <th>Presentation</th>\n",
       "      <th>Fianl-Exam</th>\n",
       "    </tr>\n",
       "  </thead>\n",
       "  <tbody>\n",
       "    <tr>\n",
       "      <th>0</th>\n",
       "      <td>-0.220111</td>\n",
       "      <td>-0.582062</td>\n",
       "      <td>1.010898</td>\n",
       "      <td>0.38564</td>\n",
       "      <td>0.953788</td>\n",
       "    </tr>\n",
       "    <tr>\n",
       "      <th>1</th>\n",
       "      <td>1.194886</td>\n",
       "      <td>1.330895</td>\n",
       "      <td>1.201934</td>\n",
       "      <td>0.38564</td>\n",
       "      <td>1.390638</td>\n",
       "    </tr>\n",
       "    <tr>\n",
       "      <th>2</th>\n",
       "      <td>0.094333</td>\n",
       "      <td>0.435729</td>\n",
       "      <td>-1.281533</td>\n",
       "      <td>0.38564</td>\n",
       "      <td>0.473254</td>\n",
       "    </tr>\n",
       "    <tr>\n",
       "      <th>3</th>\n",
       "      <td>0.094333</td>\n",
       "      <td>0.546092</td>\n",
       "      <td>0.390032</td>\n",
       "      <td>0.38564</td>\n",
       "      <td>-1.448885</td>\n",
       "    </tr>\n",
       "    <tr>\n",
       "      <th>4</th>\n",
       "      <td>-0.220111</td>\n",
       "      <td>-0.729213</td>\n",
       "      <td>-0.708425</td>\n",
       "      <td>0.38564</td>\n",
       "      <td>0.473254</td>\n",
       "    </tr>\n",
       "  </tbody>\n",
       "</table>\n",
       "</div>"
      ],
      "text/plain": [
       "      Test1  Homeworks   Quizzes  Presentation  Fianl-Exam\n",
       "0 -0.220111  -0.582062  1.010898       0.38564    0.953788\n",
       "1  1.194886   1.330895  1.201934       0.38564    1.390638\n",
       "2  0.094333   0.435729 -1.281533       0.38564    0.473254\n",
       "3  0.094333   0.546092  0.390032       0.38564   -1.448885\n",
       "4 -0.220111  -0.729213 -0.708425       0.38564    0.473254"
      ]
     },
     "execution_count": 9,
     "metadata": {},
     "output_type": "execute_result"
    }
   ],
   "source": [
    "# normalize data\n",
    "df_normalized_1 = df.copy()\n",
    "for i, col in enumerate(df_normalized_1.columns):\n",
    "    df_normalized_1[col] = (df_normalized_1[col] - means[i]) / std_devs[i]\n",
    "df_normalized_1.head()"
   ]
  },
  {
   "cell_type": "code",
   "execution_count": 10,
   "id": "f392c28a",
   "metadata": {},
   "outputs": [
    {
     "data": {
      "application/vnd.microsoft.datawrangler.viewer.v0+json": {
       "columns": [
        {
         "name": "index",
         "rawType": "int64",
         "type": "integer"
        },
        {
         "name": "Test1",
         "rawType": "float64",
         "type": "float"
        },
        {
         "name": "Homeworks",
         "rawType": "float64",
         "type": "float"
        },
        {
         "name": "Quizzes",
         "rawType": "float64",
         "type": "float"
        },
        {
         "name": "Presentation",
         "rawType": "float64",
         "type": "float"
        },
        {
         "name": "Fianl-Exam",
         "rawType": "float64",
         "type": "float"
        }
       ],
       "ref": "b28d78bd-1c43-45b7-acd7-9c1ac7ab8e57",
       "rows": [
        [
         "0",
         "-0.22011062525656322",
         "-0.5820623450655447",
         "1.010898423893164",
         "0.38563966175427195",
         "0.9537883647233225"
        ],
        [
         "1",
         "1.1948862513927734",
         "1.3308953620318924",
         "1.2019343465186436",
         "0.38563966175427195",
         "1.3906379974210277"
        ],
        [
         "2",
         "0.09433312510995599",
         "0.43572925550552766",
         "-1.2815326476125932",
         "0.38563966175427195",
         "0.47325376875584696"
        ],
        [
         "3",
         "0.09433312510995599",
         "0.5460922001457644",
         "0.3900316753603547",
         "0.38563966175427195",
         "-1.4488846151140553"
        ],
        [
         "4",
         "-0.22011062525656322",
         "-0.7292129379191936",
         "-0.7084248797361539",
         "0.38563966175427195",
         "0.47325376875584696"
        ]
       ],
       "shape": {
        "columns": 5,
        "rows": 5
       }
      },
      "text/html": [
       "<div>\n",
       "<style scoped>\n",
       "    .dataframe tbody tr th:only-of-type {\n",
       "        vertical-align: middle;\n",
       "    }\n",
       "\n",
       "    .dataframe tbody tr th {\n",
       "        vertical-align: top;\n",
       "    }\n",
       "\n",
       "    .dataframe thead th {\n",
       "        text-align: right;\n",
       "    }\n",
       "</style>\n",
       "<table border=\"1\" class=\"dataframe\">\n",
       "  <thead>\n",
       "    <tr style=\"text-align: right;\">\n",
       "      <th></th>\n",
       "      <th>Test1</th>\n",
       "      <th>Homeworks</th>\n",
       "      <th>Quizzes</th>\n",
       "      <th>Presentation</th>\n",
       "      <th>Fianl-Exam</th>\n",
       "    </tr>\n",
       "  </thead>\n",
       "  <tbody>\n",
       "    <tr>\n",
       "      <th>0</th>\n",
       "      <td>-0.220111</td>\n",
       "      <td>-0.582062</td>\n",
       "      <td>1.010898</td>\n",
       "      <td>0.38564</td>\n",
       "      <td>0.953788</td>\n",
       "    </tr>\n",
       "    <tr>\n",
       "      <th>1</th>\n",
       "      <td>1.194886</td>\n",
       "      <td>1.330895</td>\n",
       "      <td>1.201934</td>\n",
       "      <td>0.38564</td>\n",
       "      <td>1.390638</td>\n",
       "    </tr>\n",
       "    <tr>\n",
       "      <th>2</th>\n",
       "      <td>0.094333</td>\n",
       "      <td>0.435729</td>\n",
       "      <td>-1.281533</td>\n",
       "      <td>0.38564</td>\n",
       "      <td>0.473254</td>\n",
       "    </tr>\n",
       "    <tr>\n",
       "      <th>3</th>\n",
       "      <td>0.094333</td>\n",
       "      <td>0.546092</td>\n",
       "      <td>0.390032</td>\n",
       "      <td>0.38564</td>\n",
       "      <td>-1.448885</td>\n",
       "    </tr>\n",
       "    <tr>\n",
       "      <th>4</th>\n",
       "      <td>-0.220111</td>\n",
       "      <td>-0.729213</td>\n",
       "      <td>-0.708425</td>\n",
       "      <td>0.38564</td>\n",
       "      <td>0.473254</td>\n",
       "    </tr>\n",
       "  </tbody>\n",
       "</table>\n",
       "</div>"
      ],
      "text/plain": [
       "      Test1  Homeworks   Quizzes  Presentation  Fianl-Exam\n",
       "0 -0.220111  -0.582062  1.010898       0.38564    0.953788\n",
       "1  1.194886   1.330895  1.201934       0.38564    1.390638\n",
       "2  0.094333   0.435729 -1.281533       0.38564    0.473254\n",
       "3  0.094333   0.546092  0.390032       0.38564   -1.448885\n",
       "4 -0.220111  -0.729213 -0.708425       0.38564    0.473254"
      ]
     },
     "execution_count": 10,
     "metadata": {},
     "output_type": "execute_result"
    }
   ],
   "source": [
    "# another way to normalize data using means and std_devs\n",
    "df_normalized_2 = df.copy()\n",
    "for col in df_normalized_2.columns:\n",
    "    df_normalized_2[col] = (df_normalized_2[col]- df_normalized_2[col].mean()) / df_normalized_2[col].std()\n",
    "df_normalized_2.head()"
   ]
  },
  {
   "cell_type": "code",
   "execution_count": 16,
   "id": "a3119031",
   "metadata": {},
   "outputs": [
    {
     "name": "stdout",
     "output_type": "stream",
     "text": [
      "Student Reference ID: 28, index: 27\n",
      "\n",
      "Original DataFrame:\n",
      "Test1            45.0\n",
      "Homeworks       392.0\n",
      "Quizzes         130.0\n",
      "Presentation     50.0\n",
      "Fianl-Exam       77.0\n",
      "Name: 27, dtype: float64\n",
      "\n",
      "Normalized DataFrame:\n",
      "Test1           0.408777\n",
      "Homeworks       1.232795\n",
      "Quizzes         0.724345\n",
      "Presentation    0.385640\n",
      "Fianl-Exam      0.385884\n",
      "Name: 27, dtype: float64\n"
     ]
    }
   ],
   "source": [
    "# print the row corresponding to your STUDENT_REF_ID\n",
    "print(f'Student Reference ID: {STUDENT_REF_ID}, index: {STUDENT_REF_ID-1}\\n')\n",
    "print(f'Original DataFrame:\\n{df.iloc[STUDENT_REF_ID-1]}\\n')\n",
    "print(f'Normalized DataFrame:\\n{df_normalized_1.iloc[STUDENT_REF_ID-1]}')"
   ]
  },
  {
   "cell_type": "markdown",
   "id": "841afe43",
   "metadata": {},
   "source": [
    "## 1g. covariance matrix"
   ]
  },
  {
   "cell_type": "code",
   "execution_count": 19,
   "id": "f1ed2ffa",
   "metadata": {},
   "outputs": [
    {
     "data": {
      "application/vnd.microsoft.datawrangler.viewer.v0+json": {
       "columns": [
        {
         "name": "index",
         "rawType": "object",
         "type": "string"
        },
        {
         "name": "Test1",
         "rawType": "float64",
         "type": "float"
        },
        {
         "name": "Homeworks",
         "rawType": "float64",
         "type": "float"
        },
        {
         "name": "Quizzes",
         "rawType": "float64",
         "type": "float"
        },
        {
         "name": "Presentation",
         "rawType": "float64",
         "type": "float"
        },
        {
         "name": "Fianl-Exam",
         "rawType": "float64",
         "type": "float"
        }
       ],
       "ref": "45077a62-6504-4498-8bdb-88200f910796",
       "rows": [
        [
         "Test1",
         "0.9999999999999998",
         "0.528215948825393",
         "0.5289789489856324",
         "0.5895841171042948",
         "0.31025461082022526"
        ],
        [
         "Homeworks",
         "0.528215948825393",
         "0.9999999999999999",
         "0.4331834606364302",
         "0.4927051072397932",
         "0.12331314954149286"
        ],
        [
         "Quizzes",
         "0.5289789489856324",
         "0.4331834606364302",
         "0.9999999999999999",
         "0.5874629434516359",
         "0.28452289031051575"
        ],
        [
         "Presentation",
         "0.5895841171042948",
         "0.4927051072397932",
         "0.5874629434516359",
         "1.0",
         "0.31224402661266754"
        ],
        [
         "Fianl-Exam",
         "0.31025461082022526",
         "0.12331314954149286",
         "0.28452289031051575",
         "0.31224402661266754",
         "1.0000000000000002"
        ]
       ],
       "shape": {
        "columns": 5,
        "rows": 5
       }
      },
      "text/html": [
       "<div>\n",
       "<style scoped>\n",
       "    .dataframe tbody tr th:only-of-type {\n",
       "        vertical-align: middle;\n",
       "    }\n",
       "\n",
       "    .dataframe tbody tr th {\n",
       "        vertical-align: top;\n",
       "    }\n",
       "\n",
       "    .dataframe thead th {\n",
       "        text-align: right;\n",
       "    }\n",
       "</style>\n",
       "<table border=\"1\" class=\"dataframe\">\n",
       "  <thead>\n",
       "    <tr style=\"text-align: right;\">\n",
       "      <th></th>\n",
       "      <th>Test1</th>\n",
       "      <th>Homeworks</th>\n",
       "      <th>Quizzes</th>\n",
       "      <th>Presentation</th>\n",
       "      <th>Fianl-Exam</th>\n",
       "    </tr>\n",
       "  </thead>\n",
       "  <tbody>\n",
       "    <tr>\n",
       "      <th>Test1</th>\n",
       "      <td>1.000000</td>\n",
       "      <td>0.528216</td>\n",
       "      <td>0.528979</td>\n",
       "      <td>0.589584</td>\n",
       "      <td>0.310255</td>\n",
       "    </tr>\n",
       "    <tr>\n",
       "      <th>Homeworks</th>\n",
       "      <td>0.528216</td>\n",
       "      <td>1.000000</td>\n",
       "      <td>0.433183</td>\n",
       "      <td>0.492705</td>\n",
       "      <td>0.123313</td>\n",
       "    </tr>\n",
       "    <tr>\n",
       "      <th>Quizzes</th>\n",
       "      <td>0.528979</td>\n",
       "      <td>0.433183</td>\n",
       "      <td>1.000000</td>\n",
       "      <td>0.587463</td>\n",
       "      <td>0.284523</td>\n",
       "    </tr>\n",
       "    <tr>\n",
       "      <th>Presentation</th>\n",
       "      <td>0.589584</td>\n",
       "      <td>0.492705</td>\n",
       "      <td>0.587463</td>\n",
       "      <td>1.000000</td>\n",
       "      <td>0.312244</td>\n",
       "    </tr>\n",
       "    <tr>\n",
       "      <th>Fianl-Exam</th>\n",
       "      <td>0.310255</td>\n",
       "      <td>0.123313</td>\n",
       "      <td>0.284523</td>\n",
       "      <td>0.312244</td>\n",
       "      <td>1.000000</td>\n",
       "    </tr>\n",
       "  </tbody>\n",
       "</table>\n",
       "</div>"
      ],
      "text/plain": [
       "                 Test1  Homeworks   Quizzes  Presentation  Fianl-Exam\n",
       "Test1         1.000000   0.528216  0.528979      0.589584    0.310255\n",
       "Homeworks     0.528216   1.000000  0.433183      0.492705    0.123313\n",
       "Quizzes       0.528979   0.433183  1.000000      0.587463    0.284523\n",
       "Presentation  0.589584   0.492705  0.587463      1.000000    0.312244\n",
       "Fianl-Exam    0.310255   0.123313  0.284523      0.312244    1.000000"
      ]
     },
     "execution_count": 19,
     "metadata": {},
     "output_type": "execute_result"
    }
   ],
   "source": [
    "# get the covariance matrix of the normalized data\n",
    "cov_matrix = df_normalized_1.cov()\n",
    "cov_matrix"
   ]
  },
  {
   "cell_type": "markdown",
   "id": "7bdc493a",
   "metadata": {},
   "source": [
    "## 1h. Eigenvectors and eigenvalues"
   ]
  },
  {
   "cell_type": "code",
   "execution_count": 20,
   "id": "7cc0b53a",
   "metadata": {},
   "outputs": [
    {
     "name": "stdout",
     "output_type": "stream",
     "text": [
      "Eigenvalues:\n",
      "[2.74013034 0.89489394 0.54782139 0.3910074  0.42614693]\n",
      "\n",
      "Eigenvectors:\n",
      "[[-0.49842442 -0.06846767 -0.18547916 -0.45846469 -0.70872624]\n",
      " [-0.4330442  -0.44889039 -0.61155673  0.03462762  0.48556093]\n",
      " [-0.47655198 -0.0216836   0.66377748 -0.3951545   0.41914247]\n",
      " [-0.5040327  -0.03452812  0.25079718  0.79526868 -0.22227764]\n",
      " [-0.28791502  0.89002653 -0.29680983  0.00342098  0.19196337]]\n"
     ]
    }
   ],
   "source": [
    "# find eigenvalues and eigenvectors\n",
    "eigenvalues, eigenvectors = np.linalg.eig(cov_matrix)\n",
    "print(\"Eigenvalues:\")\n",
    "print(eigenvalues)\n",
    "print(\"\\nEigenvectors:\")    \n",
    "print(eigenvectors)"
   ]
  },
  {
   "cell_type": "markdown",
   "id": "37aec417",
   "metadata": {},
   "source": [
    "# Q2"
   ]
  },
  {
   "cell_type": "markdown",
   "id": "a6b8272c",
   "metadata": {},
   "source": []
  }
 ],
 "metadata": {
  "kernelspec": {
   "display_name": "hw1",
   "language": "python",
   "name": "python3"
  },
  "language_info": {
   "codemirror_mode": {
    "name": "ipython",
    "version": 3
   },
   "file_extension": ".py",
   "mimetype": "text/x-python",
   "name": "python",
   "nbconvert_exporter": "python",
   "pygments_lexer": "ipython3",
   "version": "3.13.7"
  }
 },
 "nbformat": 4,
 "nbformat_minor": 5
}
