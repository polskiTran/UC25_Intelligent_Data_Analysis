{
 "cells": [
  {
   "cell_type": "code",
   "execution_count": 1,
   "id": "b16e095a",
   "metadata": {},
   "outputs": [],
   "source": [
    "import pandas as pd\n",
    "import numpy as np\n"
   ]
  },
  {
   "cell_type": "code",
   "execution_count": 7,
   "id": "e056bcdc",
   "metadata": {},
   "outputs": [
    {
     "data": {
      "application/vnd.microsoft.datawrangler.viewer.v0+json": {
       "columns": [
        {
         "name": "index",
         "rawType": "int64",
         "type": "integer"
        },
        {
         "name": "Student ID",
         "rawType": "object",
         "type": "unknown"
        },
        {
         "name": "Test1",
         "rawType": "object",
         "type": "unknown"
        },
        {
         "name": "Homeworks",
         "rawType": "object",
         "type": "unknown"
        },
        {
         "name": "Quizzes",
         "rawType": "object",
         "type": "unknown"
        },
        {
         "name": "Presentation",
         "rawType": "float64",
         "type": "float"
        },
        {
         "name": "Fianl-Exam",
         "rawType": "object",
         "type": "unknown"
        }
       ],
       "ref": "38088baf-4a3f-4a6e-a343-4ad6caf4c535",
       "rows": [
        [
         "0",
         null,
         "Max:50",
         "Max:400",
         "Max:140",
         null,
         "Max:100"
        ],
        [
         "1",
         null,
         null,
         null,
         null,
         null,
         null
        ],
        [
         "2",
         "S1",
         "41",
         "244",
         "136",
         "50.0",
         "90"
        ],
        [
         "3",
         "S2",
         "50",
         "400",
         "140",
         "50.0",
         "100"
        ],
        [
         "4",
         "S3",
         "43",
         "327",
         "88",
         "50.0",
         "79"
        ]
       ],
       "shape": {
        "columns": 6,
        "rows": 5
       }
      },
      "text/html": [
       "<div>\n",
       "<style scoped>\n",
       "    .dataframe tbody tr th:only-of-type {\n",
       "        vertical-align: middle;\n",
       "    }\n",
       "\n",
       "    .dataframe tbody tr th {\n",
       "        vertical-align: top;\n",
       "    }\n",
       "\n",
       "    .dataframe thead th {\n",
       "        text-align: right;\n",
       "    }\n",
       "</style>\n",
       "<table border=\"1\" class=\"dataframe\">\n",
       "  <thead>\n",
       "    <tr style=\"text-align: right;\">\n",
       "      <th></th>\n",
       "      <th>Student ID</th>\n",
       "      <th>Test1</th>\n",
       "      <th>Homeworks</th>\n",
       "      <th>Quizzes</th>\n",
       "      <th>Presentation</th>\n",
       "      <th>Fianl-Exam</th>\n",
       "    </tr>\n",
       "  </thead>\n",
       "  <tbody>\n",
       "    <tr>\n",
       "      <th>0</th>\n",
       "      <td>NaN</td>\n",
       "      <td>Max:50</td>\n",
       "      <td>Max:400</td>\n",
       "      <td>Max:140</td>\n",
       "      <td>NaN</td>\n",
       "      <td>Max:100</td>\n",
       "    </tr>\n",
       "    <tr>\n",
       "      <th>1</th>\n",
       "      <td>NaN</td>\n",
       "      <td>NaN</td>\n",
       "      <td>NaN</td>\n",
       "      <td>NaN</td>\n",
       "      <td>NaN</td>\n",
       "      <td>NaN</td>\n",
       "    </tr>\n",
       "    <tr>\n",
       "      <th>2</th>\n",
       "      <td>S1</td>\n",
       "      <td>41</td>\n",
       "      <td>244</td>\n",
       "      <td>136</td>\n",
       "      <td>50.0</td>\n",
       "      <td>90</td>\n",
       "    </tr>\n",
       "    <tr>\n",
       "      <th>3</th>\n",
       "      <td>S2</td>\n",
       "      <td>50</td>\n",
       "      <td>400</td>\n",
       "      <td>140</td>\n",
       "      <td>50.0</td>\n",
       "      <td>100</td>\n",
       "    </tr>\n",
       "    <tr>\n",
       "      <th>4</th>\n",
       "      <td>S3</td>\n",
       "      <td>43</td>\n",
       "      <td>327</td>\n",
       "      <td>88</td>\n",
       "      <td>50.0</td>\n",
       "      <td>79</td>\n",
       "    </tr>\n",
       "  </tbody>\n",
       "</table>\n",
       "</div>"
      ],
      "text/plain": [
       "  Student ID   Test1 Homeworks  Quizzes  Presentation Fianl-Exam\n",
       "0        NaN  Max:50   Max:400  Max:140           NaN    Max:100\n",
       "1        NaN     NaN       NaN      NaN           NaN        NaN\n",
       "2         S1      41       244      136          50.0         90\n",
       "3         S2      50       400      140          50.0        100\n",
       "4         S3      43       327       88          50.0         79"
      ]
     },
     "execution_count": 7,
     "metadata": {},
     "output_type": "execute_result"
    }
   ],
   "source": [
    "df = pd.read_csv('data/HW1-Data.csv')\n",
    "df.head()"
   ]
  },
  {
   "cell_type": "code",
   "execution_count": null,
   "id": "c0f8ff81",
   "metadata": {},
   "outputs": [
    {
     "data": {
      "application/vnd.microsoft.datawrangler.viewer.v0+json": {
       "columns": [
        {
         "name": "index",
         "rawType": "int64",
         "type": "integer"
        },
        {
         "name": "Student ID",
         "rawType": "object",
         "type": "string"
        },
        {
         "name": "Test1",
         "rawType": "object",
         "type": "string"
        },
        {
         "name": "Homeworks",
         "rawType": "object",
         "type": "string"
        },
        {
         "name": "Quizzes",
         "rawType": "object",
         "type": "string"
        },
        {
         "name": "Presentation",
         "rawType": "float64",
         "type": "float"
        },
        {
         "name": "Fianl-Exam",
         "rawType": "object",
         "type": "string"
        }
       ],
       "ref": "3db2580a-db28-4d7a-b122-9ba1ade22098",
       "rows": [
        [
         "0",
         "S1",
         "41",
         "244",
         "136",
         "50.0",
         "90"
        ],
        [
         "1",
         "S2",
         "50",
         "400",
         "140",
         "50.0",
         "100"
        ],
        [
         "2",
         "S3",
         "43",
         "327",
         "88",
         "50.0",
         "79"
        ],
        [
         "3",
         "S4",
         "43",
         "336",
         "123",
         "50.0",
         "35"
        ],
        [
         "4",
         "S5",
         "41",
         "232",
         "100",
         "50.0",
         "79"
        ]
       ],
       "shape": {
        "columns": 6,
        "rows": 5
       }
      },
      "text/html": [
       "<div>\n",
       "<style scoped>\n",
       "    .dataframe tbody tr th:only-of-type {\n",
       "        vertical-align: middle;\n",
       "    }\n",
       "\n",
       "    .dataframe tbody tr th {\n",
       "        vertical-align: top;\n",
       "    }\n",
       "\n",
       "    .dataframe thead th {\n",
       "        text-align: right;\n",
       "    }\n",
       "</style>\n",
       "<table border=\"1\" class=\"dataframe\">\n",
       "  <thead>\n",
       "    <tr style=\"text-align: right;\">\n",
       "      <th></th>\n",
       "      <th>Student ID</th>\n",
       "      <th>Test1</th>\n",
       "      <th>Homeworks</th>\n",
       "      <th>Quizzes</th>\n",
       "      <th>Presentation</th>\n",
       "      <th>Fianl-Exam</th>\n",
       "    </tr>\n",
       "  </thead>\n",
       "  <tbody>\n",
       "    <tr>\n",
       "      <th>0</th>\n",
       "      <td>S1</td>\n",
       "      <td>41</td>\n",
       "      <td>244</td>\n",
       "      <td>136</td>\n",
       "      <td>50.0</td>\n",
       "      <td>90</td>\n",
       "    </tr>\n",
       "    <tr>\n",
       "      <th>1</th>\n",
       "      <td>S2</td>\n",
       "      <td>50</td>\n",
       "      <td>400</td>\n",
       "      <td>140</td>\n",
       "      <td>50.0</td>\n",
       "      <td>100</td>\n",
       "    </tr>\n",
       "    <tr>\n",
       "      <th>2</th>\n",
       "      <td>S3</td>\n",
       "      <td>43</td>\n",
       "      <td>327</td>\n",
       "      <td>88</td>\n",
       "      <td>50.0</td>\n",
       "      <td>79</td>\n",
       "    </tr>\n",
       "    <tr>\n",
       "      <th>3</th>\n",
       "      <td>S4</td>\n",
       "      <td>43</td>\n",
       "      <td>336</td>\n",
       "      <td>123</td>\n",
       "      <td>50.0</td>\n",
       "      <td>35</td>\n",
       "    </tr>\n",
       "    <tr>\n",
       "      <th>4</th>\n",
       "      <td>S5</td>\n",
       "      <td>41</td>\n",
       "      <td>232</td>\n",
       "      <td>100</td>\n",
       "      <td>50.0</td>\n",
       "      <td>79</td>\n",
       "    </tr>\n",
       "  </tbody>\n",
       "</table>\n",
       "</div>"
      ],
      "text/plain": [
       "  Student ID Test1 Homeworks Quizzes  Presentation Fianl-Exam\n",
       "0         S1    41       244     136          50.0         90\n",
       "1         S2    50       400     140          50.0        100\n",
       "2         S3    43       327      88          50.0         79\n",
       "3         S4    43       336     123          50.0         35\n",
       "4         S5    41       232     100          50.0         79"
      ]
     },
     "execution_count": 8,
     "metadata": {},
     "output_type": "execute_result"
    }
   ],
   "source": [
    "# drop first 2 rows and start from index 0\n",
    "df = df.drop(index=[0, 1])\n",
    "df = df.reset_index(drop=True)\n",
    "df.head()"
   ]
  },
  {
   "cell_type": "code",
   "execution_count": null,
   "id": "7f0cf1de",
   "metadata": {},
   "outputs": [],
   "source": []
  }
 ],
 "metadata": {
  "kernelspec": {
   "display_name": "Python 3 (ipykernel)",
   "language": "python",
   "name": "python3"
  },
  "language_info": {
   "codemirror_mode": {
    "name": "ipython",
    "version": 3
   },
   "file_extension": ".py",
   "mimetype": "text/x-python",
   "name": "python",
   "nbconvert_exporter": "python",
   "pygments_lexer": "ipython3",
   "version": "3.13.4"
  }
 },
 "nbformat": 4,
 "nbformat_minor": 5
}
